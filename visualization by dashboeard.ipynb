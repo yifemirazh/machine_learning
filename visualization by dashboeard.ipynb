{
 "cells": [
  {
   "cell_type": "markdown",
   "id": "c5ca9b13-8f5a-47ae-ae72-04eaf8f2bf47",
   "metadata": {},
   "source": [
    "# 🌍 Tuberculosis Data Dashboard (1990–2013)\n",
    "Interactive analytics to explore TB trends, regional patterns, and predictions for future health planning.\n"
   ]
  },
  {
   "cell_type": "code",
   "execution_count": 17,
   "id": "137a6e3e-216c-40ac-95f6-0323e28a8a17",
   "metadata": {},
   "outputs": [],
   "source": [
    "#  Load Libraries\n",
    "import pandas as pd\n",
    "import plotly.express as px\n",
    "import matplotlib.pyplot as plt\n",
    "import ipywidgets as widgets\n",
    "from IPython.display import display, Markdown\n",
    "from sklearn.linear_model import LinearRegression\n",
    "import numpy as np\n"
   ]
  },
  {
   "cell_type": "code",
   "execution_count": 41,
   "id": "9d855e92-46da-4323-833f-570f6a20d07b",
   "metadata": {},
   "outputs": [],
   "source": [
    "#  Load Dataset\n",
    "\n",
    "df = pd.read_csv(r\"C:\\Users\\13309\\Desktop\\TB_Burden_Country.csv\")\n",
    "# Load 2024 TB data\n",
    "df_2024 = pd.read_csv(r\"C:\\Users\\13309\\Desktop\\Tuberculosis_Trends.csv\")\n",
    "\n",
    "# Rename relevant columns\n",
    "df = df.rename(columns={\n",
    "    'Country or territory name': 'Country',\n",
    "    'WHO region': 'Region',\n",
    "    'Estimated number of incident cases (all forms)': 'Total_Cases',\n",
    "    'Estimated incidence (all forms) per 100 000 population': 'Incidence_Rate',\n",
    "    'Estimated total population number': 'Population'\n",
    "})\n",
    "df_2024 = df_2024.rename(columns={\n",
    "    'TB_Cases': 'Total_Cases',\n",
    "    'TB_Incidence_Rate': 'Incidence_Rate'\n",
    "})\n",
    "\n",
    "\n",
    "# Filter data by year\n",
    "df = df[(df['Year'] >= 1990) & (df['Year'] <= 2013)]\n",
    "df_2024['Year'] = 2024\n",
    "\n"
   ]
  },
  {
   "cell_type": "code",
   "execution_count": 42,
   "id": "ce3a2e30-3f1f-40c7-a532-4de347067533",
   "metadata": {},
   "outputs": [
    {
     "data": {
      "application/vnd.jupyter.widget-view+json": {
       "model_id": "49a904ad200e44d3a79dfcdfad1ffb09",
       "version_major": 2,
       "version_minor": 0
      },
      "text/plain": [
       "IntSlider(value=2013, description='Year:', max=2013, min=1990)"
      ]
     },
     "metadata": {},
     "output_type": "display_data"
    },
    {
     "data": {
      "application/vnd.jupyter.widget-view+json": {
       "model_id": "a92c77faf6e240fbba71c805e07e6abb",
       "version_major": 2,
       "version_minor": 0
      },
      "text/plain": [
       "SelectMultiple(description='Region:', index=(0, 1, 2, 3, 4, 5), options=('EMR', 'EUR', 'AFR', 'WPR', 'AMR', 'S…"
      ]
     },
     "metadata": {},
     "output_type": "display_data"
    }
   ],
   "source": [
    "# Cell 3: Interactive Widgets for Filtering\n",
    "year_slider = widgets.IntSlider(value=2013, min=1990, max=2013, description='Year:')\n",
    "region_selector = widgets.SelectMultiple(\n",
    "    options=df['Region'].dropna().unique(),\n",
    "    value=tuple(df['Region'].dropna().unique()),\n",
    "    description='Region:'\n",
    ")\n",
    "\n",
    "def filter_data(year, regions):\n",
    "    return df[(df['Year'] == year) & (df['Region'].isin(regions))]\n",
    "\n",
    "display(year_slider, region_selector)\n"
   ]
  },
  {
   "cell_type": "code",
   "execution_count": 43,
   "id": "5b77859b-dd1f-47e7-b1fc-47b0b308bd56",
   "metadata": {},
   "outputs": [
    {
     "data": {
      "text/markdown": [
       "### 📌 KPIs for 2013"
      ],
      "text/plain": [
       "<IPython.core.display.Markdown object>"
      ]
     },
     "metadata": {},
     "output_type": "display_data"
    },
    {
     "data": {
      "text/markdown": [
       "- **Total TB Cases**: 8,963,725"
      ],
      "text/plain": [
       "<IPython.core.display.Markdown object>"
      ]
     },
     "metadata": {},
     "output_type": "display_data"
    },
    {
     "data": {
      "text/markdown": [
       "- **Average Incidence Rate per 100K**: 112.52"
      ],
      "text/plain": [
       "<IPython.core.display.Markdown object>"
      ]
     },
     "metadata": {},
     "output_type": "display_data"
    }
   ],
   "source": [
    "# Cell 4: Display KPIs\n",
    "def display_kpis(year, regions):\n",
    "    data = filter_data(year, regions)\n",
    "    total_cases = int(data['Total_Cases'].sum())\n",
    "    avg_rate = round(data['Incidence_Rate'].mean(), 2)\n",
    "    display(Markdown(f\"### 📌 KPIs for {year}\"))\n",
    "    display(Markdown(f\"- **Total TB Cases**: {total_cases:,}\"))\n",
    "    display(Markdown(f\"- **Average Incidence Rate per 100K**: {avg_rate}\"))\n",
    "\n",
    "display_kpis(year_slider.value, region_selector.value)\n"
   ]
  },
  {
   "cell_type": "code",
   "execution_count": 62,
   "id": "b3a9716d-bb49-4c34-983e-a76773224ca8",
   "metadata": {},
   "outputs": [
    {
     "data": {
      "application/vnd.plotly.v1+json": {
       "config": {
        "plotlyServerURL": "https://plot.ly"
       },
       "data": [
        {
         "hovertemplate": "<b>Year: %{x}</b><br>Total TB Cases: %{y:,}<extra></extra>",
         "legendgroup": "",
         "line": {
          "color": "#EF553B",
          "dash": "solid",
          "shape": "spline",
          "width": 3
         },
         "marker": {
          "symbol": "circle"
         },
         "mode": "lines+markers",
         "name": "",
         "orientation": "v",
         "showlegend": false,
         "type": "scatter",
         "x": [
          1990,
          1991,
          1992,
          1993,
          1994,
          1995,
          1996,
          1997,
          1998,
          1999,
          2000,
          2001,
          2002,
          2003,
          2004,
          2005,
          2006,
          2007,
          2008,
          2009,
          2010,
          2011,
          2012,
          2013
         ],
         "xaxis": "x",
         "y": [
          8026081.9,
          8026955.2,
          8248443.8,
          8374464.37,
          8422589.6,
          8658242.72,
          8802723.48,
          8813679.3,
          9079435.2,
          9111069.1,
          9337727.2,
          9408198.2,
          9406696.4,
          9456783.73,
          9505773.66,
          9547373.040000001,
          9439578.9,
          9341132.14,
          9320404.36,
          9325217.98,
          9192961.17,
          9111197.35,
          9083910.16,
          8963725.27
         ],
         "yaxis": "y"
        }
       ],
       "layout": {
        "autosize": true,
        "font": {
         "family": "Arial",
         "size": 16
        },
        "hoverlabel": {
         "bgcolor": "white",
         "font": {
          "family": "Arial",
          "size": 14
         }
        },
        "legend": {
         "tracegroupgap": 0
        },
        "margin": {
         "b": 50,
         "l": 60,
         "r": 40,
         "t": 60
        },
        "paper_bgcolor": "rgba(255,255,255,0.95)",
        "plot_bgcolor": "rgba(255,255,255,0.95)",
        "template": {
         "data": {
          "bar": [
           {
            "error_x": {
             "color": "#2a3f5f"
            },
            "error_y": {
             "color": "#2a3f5f"
            },
            "marker": {
             "line": {
              "color": "#E5ECF6",
              "width": 0.5
             },
             "pattern": {
              "fillmode": "overlay",
              "size": 10,
              "solidity": 0.2
             }
            },
            "type": "bar"
           }
          ],
          "barpolar": [
           {
            "marker": {
             "line": {
              "color": "#E5ECF6",
              "width": 0.5
             },
             "pattern": {
              "fillmode": "overlay",
              "size": 10,
              "solidity": 0.2
             }
            },
            "type": "barpolar"
           }
          ],
          "carpet": [
           {
            "aaxis": {
             "endlinecolor": "#2a3f5f",
             "gridcolor": "white",
             "linecolor": "white",
             "minorgridcolor": "white",
             "startlinecolor": "#2a3f5f"
            },
            "baxis": {
             "endlinecolor": "#2a3f5f",
             "gridcolor": "white",
             "linecolor": "white",
             "minorgridcolor": "white",
             "startlinecolor": "#2a3f5f"
            },
            "type": "carpet"
           }
          ],
          "choropleth": [
           {
            "colorbar": {
             "outlinewidth": 0,
             "ticks": ""
            },
            "type": "choropleth"
           }
          ],
          "contour": [
           {
            "colorbar": {
             "outlinewidth": 0,
             "ticks": ""
            },
            "colorscale": [
             [
              0,
              "#0d0887"
             ],
             [
              0.1111111111111111,
              "#46039f"
             ],
             [
              0.2222222222222222,
              "#7201a8"
             ],
             [
              0.3333333333333333,
              "#9c179e"
             ],
             [
              0.4444444444444444,
              "#bd3786"
             ],
             [
              0.5555555555555556,
              "#d8576b"
             ],
             [
              0.6666666666666666,
              "#ed7953"
             ],
             [
              0.7777777777777778,
              "#fb9f3a"
             ],
             [
              0.8888888888888888,
              "#fdca26"
             ],
             [
              1,
              "#f0f921"
             ]
            ],
            "type": "contour"
           }
          ],
          "contourcarpet": [
           {
            "colorbar": {
             "outlinewidth": 0,
             "ticks": ""
            },
            "type": "contourcarpet"
           }
          ],
          "heatmap": [
           {
            "colorbar": {
             "outlinewidth": 0,
             "ticks": ""
            },
            "colorscale": [
             [
              0,
              "#0d0887"
             ],
             [
              0.1111111111111111,
              "#46039f"
             ],
             [
              0.2222222222222222,
              "#7201a8"
             ],
             [
              0.3333333333333333,
              "#9c179e"
             ],
             [
              0.4444444444444444,
              "#bd3786"
             ],
             [
              0.5555555555555556,
              "#d8576b"
             ],
             [
              0.6666666666666666,
              "#ed7953"
             ],
             [
              0.7777777777777778,
              "#fb9f3a"
             ],
             [
              0.8888888888888888,
              "#fdca26"
             ],
             [
              1,
              "#f0f921"
             ]
            ],
            "type": "heatmap"
           }
          ],
          "heatmapgl": [
           {
            "colorbar": {
             "outlinewidth": 0,
             "ticks": ""
            },
            "colorscale": [
             [
              0,
              "#0d0887"
             ],
             [
              0.1111111111111111,
              "#46039f"
             ],
             [
              0.2222222222222222,
              "#7201a8"
             ],
             [
              0.3333333333333333,
              "#9c179e"
             ],
             [
              0.4444444444444444,
              "#bd3786"
             ],
             [
              0.5555555555555556,
              "#d8576b"
             ],
             [
              0.6666666666666666,
              "#ed7953"
             ],
             [
              0.7777777777777778,
              "#fb9f3a"
             ],
             [
              0.8888888888888888,
              "#fdca26"
             ],
             [
              1,
              "#f0f921"
             ]
            ],
            "type": "heatmapgl"
           }
          ],
          "histogram": [
           {
            "marker": {
             "pattern": {
              "fillmode": "overlay",
              "size": 10,
              "solidity": 0.2
             }
            },
            "type": "histogram"
           }
          ],
          "histogram2d": [
           {
            "colorbar": {
             "outlinewidth": 0,
             "ticks": ""
            },
            "colorscale": [
             [
              0,
              "#0d0887"
             ],
             [
              0.1111111111111111,
              "#46039f"
             ],
             [
              0.2222222222222222,
              "#7201a8"
             ],
             [
              0.3333333333333333,
              "#9c179e"
             ],
             [
              0.4444444444444444,
              "#bd3786"
             ],
             [
              0.5555555555555556,
              "#d8576b"
             ],
             [
              0.6666666666666666,
              "#ed7953"
             ],
             [
              0.7777777777777778,
              "#fb9f3a"
             ],
             [
              0.8888888888888888,
              "#fdca26"
             ],
             [
              1,
              "#f0f921"
             ]
            ],
            "type": "histogram2d"
           }
          ],
          "histogram2dcontour": [
           {
            "colorbar": {
             "outlinewidth": 0,
             "ticks": ""
            },
            "colorscale": [
             [
              0,
              "#0d0887"
             ],
             [
              0.1111111111111111,
              "#46039f"
             ],
             [
              0.2222222222222222,
              "#7201a8"
             ],
             [
              0.3333333333333333,
              "#9c179e"
             ],
             [
              0.4444444444444444,
              "#bd3786"
             ],
             [
              0.5555555555555556,
              "#d8576b"
             ],
             [
              0.6666666666666666,
              "#ed7953"
             ],
             [
              0.7777777777777778,
              "#fb9f3a"
             ],
             [
              0.8888888888888888,
              "#fdca26"
             ],
             [
              1,
              "#f0f921"
             ]
            ],
            "type": "histogram2dcontour"
           }
          ],
          "mesh3d": [
           {
            "colorbar": {
             "outlinewidth": 0,
             "ticks": ""
            },
            "type": "mesh3d"
           }
          ],
          "parcoords": [
           {
            "line": {
             "colorbar": {
              "outlinewidth": 0,
              "ticks": ""
             }
            },
            "type": "parcoords"
           }
          ],
          "pie": [
           {
            "automargin": true,
            "type": "pie"
           }
          ],
          "scatter": [
           {
            "fillpattern": {
             "fillmode": "overlay",
             "size": 10,
             "solidity": 0.2
            },
            "type": "scatter"
           }
          ],
          "scatter3d": [
           {
            "line": {
             "colorbar": {
              "outlinewidth": 0,
              "ticks": ""
             }
            },
            "marker": {
             "colorbar": {
              "outlinewidth": 0,
              "ticks": ""
             }
            },
            "type": "scatter3d"
           }
          ],
          "scattercarpet": [
           {
            "marker": {
             "colorbar": {
              "outlinewidth": 0,
              "ticks": ""
             }
            },
            "type": "scattercarpet"
           }
          ],
          "scattergeo": [
           {
            "marker": {
             "colorbar": {
              "outlinewidth": 0,
              "ticks": ""
             }
            },
            "type": "scattergeo"
           }
          ],
          "scattergl": [
           {
            "marker": {
             "colorbar": {
              "outlinewidth": 0,
              "ticks": ""
             }
            },
            "type": "scattergl"
           }
          ],
          "scattermapbox": [
           {
            "marker": {
             "colorbar": {
              "outlinewidth": 0,
              "ticks": ""
             }
            },
            "type": "scattermapbox"
           }
          ],
          "scatterpolar": [
           {
            "marker": {
             "colorbar": {
              "outlinewidth": 0,
              "ticks": ""
             }
            },
            "type": "scatterpolar"
           }
          ],
          "scatterpolargl": [
           {
            "marker": {
             "colorbar": {
              "outlinewidth": 0,
              "ticks": ""
             }
            },
            "type": "scatterpolargl"
           }
          ],
          "scatterternary": [
           {
            "marker": {
             "colorbar": {
              "outlinewidth": 0,
              "ticks": ""
             }
            },
            "type": "scatterternary"
           }
          ],
          "surface": [
           {
            "colorbar": {
             "outlinewidth": 0,
             "ticks": ""
            },
            "colorscale": [
             [
              0,
              "#0d0887"
             ],
             [
              0.1111111111111111,
              "#46039f"
             ],
             [
              0.2222222222222222,
              "#7201a8"
             ],
             [
              0.3333333333333333,
              "#9c179e"
             ],
             [
              0.4444444444444444,
              "#bd3786"
             ],
             [
              0.5555555555555556,
              "#d8576b"
             ],
             [
              0.6666666666666666,
              "#ed7953"
             ],
             [
              0.7777777777777778,
              "#fb9f3a"
             ],
             [
              0.8888888888888888,
              "#fdca26"
             ],
             [
              1,
              "#f0f921"
             ]
            ],
            "type": "surface"
           }
          ],
          "table": [
           {
            "cells": {
             "fill": {
              "color": "#EBF0F8"
             },
             "line": {
              "color": "white"
             }
            },
            "header": {
             "fill": {
              "color": "#C8D4E3"
             },
             "line": {
              "color": "white"
             }
            },
            "type": "table"
           }
          ]
         },
         "layout": {
          "annotationdefaults": {
           "arrowcolor": "#2a3f5f",
           "arrowhead": 0,
           "arrowwidth": 1
          },
          "autotypenumbers": "strict",
          "coloraxis": {
           "colorbar": {
            "outlinewidth": 0,
            "ticks": ""
           }
          },
          "colorscale": {
           "diverging": [
            [
             0,
             "#8e0152"
            ],
            [
             0.1,
             "#c51b7d"
            ],
            [
             0.2,
             "#de77ae"
            ],
            [
             0.3,
             "#f1b6da"
            ],
            [
             0.4,
             "#fde0ef"
            ],
            [
             0.5,
             "#f7f7f7"
            ],
            [
             0.6,
             "#e6f5d0"
            ],
            [
             0.7,
             "#b8e186"
            ],
            [
             0.8,
             "#7fbc41"
            ],
            [
             0.9,
             "#4d9221"
            ],
            [
             1,
             "#276419"
            ]
           ],
           "sequential": [
            [
             0,
             "#0d0887"
            ],
            [
             0.1111111111111111,
             "#46039f"
            ],
            [
             0.2222222222222222,
             "#7201a8"
            ],
            [
             0.3333333333333333,
             "#9c179e"
            ],
            [
             0.4444444444444444,
             "#bd3786"
            ],
            [
             0.5555555555555556,
             "#d8576b"
            ],
            [
             0.6666666666666666,
             "#ed7953"
            ],
            [
             0.7777777777777778,
             "#fb9f3a"
            ],
            [
             0.8888888888888888,
             "#fdca26"
            ],
            [
             1,
             "#f0f921"
            ]
           ],
           "sequentialminus": [
            [
             0,
             "#0d0887"
            ],
            [
             0.1111111111111111,
             "#46039f"
            ],
            [
             0.2222222222222222,
             "#7201a8"
            ],
            [
             0.3333333333333333,
             "#9c179e"
            ],
            [
             0.4444444444444444,
             "#bd3786"
            ],
            [
             0.5555555555555556,
             "#d8576b"
            ],
            [
             0.6666666666666666,
             "#ed7953"
            ],
            [
             0.7777777777777778,
             "#fb9f3a"
            ],
            [
             0.8888888888888888,
             "#fdca26"
            ],
            [
             1,
             "#f0f921"
            ]
           ]
          },
          "colorway": [
           "#636efa",
           "#EF553B",
           "#00cc96",
           "#ab63fa",
           "#FFA15A",
           "#19d3f3",
           "#FF6692",
           "#B6E880",
           "#FF97FF",
           "#FECB52"
          ],
          "font": {
           "color": "#2a3f5f"
          },
          "geo": {
           "bgcolor": "white",
           "lakecolor": "white",
           "landcolor": "#E5ECF6",
           "showlakes": true,
           "showland": true,
           "subunitcolor": "white"
          },
          "hoverlabel": {
           "align": "left"
          },
          "hovermode": "closest",
          "mapbox": {
           "style": "light"
          },
          "paper_bgcolor": "white",
          "plot_bgcolor": "#E5ECF6",
          "polar": {
           "angularaxis": {
            "gridcolor": "white",
            "linecolor": "white",
            "ticks": ""
           },
           "bgcolor": "#E5ECF6",
           "radialaxis": {
            "gridcolor": "white",
            "linecolor": "white",
            "ticks": ""
           }
          },
          "scene": {
           "xaxis": {
            "backgroundcolor": "#E5ECF6",
            "gridcolor": "white",
            "gridwidth": 2,
            "linecolor": "white",
            "showbackground": true,
            "ticks": "",
            "zerolinecolor": "white"
           },
           "yaxis": {
            "backgroundcolor": "#E5ECF6",
            "gridcolor": "white",
            "gridwidth": 2,
            "linecolor": "white",
            "showbackground": true,
            "ticks": "",
            "zerolinecolor": "white"
           },
           "zaxis": {
            "backgroundcolor": "#E5ECF6",
            "gridcolor": "white",
            "gridwidth": 2,
            "linecolor": "white",
            "showbackground": true,
            "ticks": "",
            "zerolinecolor": "white"
           }
          },
          "shapedefaults": {
           "line": {
            "color": "#2a3f5f"
           }
          },
          "ternary": {
           "aaxis": {
            "gridcolor": "white",
            "linecolor": "white",
            "ticks": ""
           },
           "baxis": {
            "gridcolor": "white",
            "linecolor": "white",
            "ticks": ""
           },
           "bgcolor": "#E5ECF6",
           "caxis": {
            "gridcolor": "white",
            "linecolor": "white",
            "ticks": ""
           }
          },
          "title": {
           "x": 0.05
          },
          "xaxis": {
           "automargin": true,
           "gridcolor": "white",
           "linecolor": "white",
           "ticks": "",
           "title": {
            "standoff": 15
           },
           "zerolinecolor": "white",
           "zerolinewidth": 2
          },
          "yaxis": {
           "automargin": true,
           "gridcolor": "white",
           "linecolor": "white",
           "ticks": "",
           "title": {
            "standoff": 15
           },
           "zerolinecolor": "white",
           "zerolinewidth": 2
          }
         }
        },
        "title": {
         "font": {
          "size": 24
         },
         "text": "📈 Global TB Trend Over Time (1990–2013)"
        },
        "xaxis": {
         "anchor": "y",
         "autorange": true,
         "domain": [
          0,
          1
         ],
         "range": [
          1988.6096228410292,
          2014.3903771589708
         ],
         "title": {
          "text": "Year"
         },
         "type": "linear"
        },
        "yaxis": {
         "anchor": "x",
         "autorange": true,
         "domain": [
          0,
          1
         ],
         "range": [
          7911032.425539499,
          9662422.514460502
         ],
         "tickformat": ",",
         "title": {
          "text": "Total TB Cases"
         },
         "type": "linear"
        }
       }
      },
      "image/png": "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",
      "text/html": [
       "<div>                            <div id=\"21bec0df-9cc4-4f41-a75c-852f004735f5\" class=\"plotly-graph-div\" style=\"height:525px; width:100%;\"></div>            <script type=\"text/javascript\">                require([\"plotly\"], function(Plotly) {                    window.PLOTLYENV=window.PLOTLYENV || {};                                    if (document.getElementById(\"21bec0df-9cc4-4f41-a75c-852f004735f5\")) {                    Plotly.newPlot(                        \"21bec0df-9cc4-4f41-a75c-852f004735f5\",                        [{\"hovertemplate\":\"<b>Year: %{x}</b><br>Total TB Cases: %{y:,}<extra></extra>\",\"legendgroup\":\"\",\"line\":{\"color\":\"#EF553B\",\"dash\":\"solid\",\"shape\":\"spline\",\"width\":3},\"marker\":{\"symbol\":\"circle\"},\"mode\":\"lines+markers\",\"name\":\"\",\"orientation\":\"v\",\"showlegend\":false,\"x\":[1990,1991,1992,1993,1994,1995,1996,1997,1998,1999,2000,2001,2002,2003,2004,2005,2006,2007,2008,2009,2010,2011,2012,2013],\"xaxis\":\"x\",\"y\":[8026081.9,8026955.2,8248443.8,8374464.37,8422589.6,8658242.72,8802723.48,8813679.3,9079435.2,9111069.1,9337727.2,9408198.2,9406696.4,9456783.73,9505773.66,9547373.040000001,9439578.9,9341132.14,9320404.36,9325217.98,9192961.17,9111197.35,9083910.16,8963725.27],\"yaxis\":\"y\",\"type\":\"scatter\"}],                        {\"template\":{\"data\":{\"histogram2dcontour\":[{\"type\":\"histogram2dcontour\",\"colorbar\":{\"outlinewidth\":0,\"ticks\":\"\"},\"colorscale\":[[0.0,\"#0d0887\"],[0.1111111111111111,\"#46039f\"],[0.2222222222222222,\"#7201a8\"],[0.3333333333333333,\"#9c179e\"],[0.4444444444444444,\"#bd3786\"],[0.5555555555555556,\"#d8576b\"],[0.6666666666666666,\"#ed7953\"],[0.7777777777777778,\"#fb9f3a\"],[0.8888888888888888,\"#fdca26\"],[1.0,\"#f0f921\"]]}],\"choropleth\":[{\"type\":\"choropleth\",\"colorbar\":{\"outlinewidth\":0,\"ticks\":\"\"}}],\"histogram2d\":[{\"type\":\"histogram2d\",\"colorbar\":{\"outlinewidth\":0,\"ticks\":\"\"},\"colorscale\":[[0.0,\"#0d0887\"],[0.1111111111111111,\"#46039f\"],[0.2222222222222222,\"#7201a8\"],[0.3333333333333333,\"#9c179e\"],[0.4444444444444444,\"#bd3786\"],[0.5555555555555556,\"#d8576b\"],[0.6666666666666666,\"#ed7953\"],[0.7777777777777778,\"#fb9f3a\"],[0.8888888888888888,\"#fdca26\"],[1.0,\"#f0f921\"]]}],\"heatmap\":[{\"type\":\"heatmap\",\"colorbar\":{\"outlinewidth\":0,\"ticks\":\"\"},\"colorscale\":[[0.0,\"#0d0887\"],[0.1111111111111111,\"#46039f\"],[0.2222222222222222,\"#7201a8\"],[0.3333333333333333,\"#9c179e\"],[0.4444444444444444,\"#bd3786\"],[0.5555555555555556,\"#d8576b\"],[0.6666666666666666,\"#ed7953\"],[0.7777777777777778,\"#fb9f3a\"],[0.8888888888888888,\"#fdca26\"],[1.0,\"#f0f921\"]]}],\"heatmapgl\":[{\"type\":\"heatmapgl\",\"colorbar\":{\"outlinewidth\":0,\"ticks\":\"\"},\"colorscale\":[[0.0,\"#0d0887\"],[0.1111111111111111,\"#46039f\"],[0.2222222222222222,\"#7201a8\"],[0.3333333333333333,\"#9c179e\"],[0.4444444444444444,\"#bd3786\"],[0.5555555555555556,\"#d8576b\"],[0.6666666666666666,\"#ed7953\"],[0.7777777777777778,\"#fb9f3a\"],[0.8888888888888888,\"#fdca26\"],[1.0,\"#f0f921\"]]}],\"contourcarpet\":[{\"type\":\"contourcarpet\",\"colorbar\":{\"outlinewidth\":0,\"ticks\":\"\"}}],\"contour\":[{\"type\":\"contour\",\"colorbar\":{\"outlinewidth\":0,\"ticks\":\"\"},\"colorscale\":[[0.0,\"#0d0887\"],[0.1111111111111111,\"#46039f\"],[0.2222222222222222,\"#7201a8\"],[0.3333333333333333,\"#9c179e\"],[0.4444444444444444,\"#bd3786\"],[0.5555555555555556,\"#d8576b\"],[0.6666666666666666,\"#ed7953\"],[0.7777777777777778,\"#fb9f3a\"],[0.8888888888888888,\"#fdca26\"],[1.0,\"#f0f921\"]]}],\"surface\":[{\"type\":\"surface\",\"colorbar\":{\"outlinewidth\":0,\"ticks\":\"\"},\"colorscale\":[[0.0,\"#0d0887\"],[0.1111111111111111,\"#46039f\"],[0.2222222222222222,\"#7201a8\"],[0.3333333333333333,\"#9c179e\"],[0.4444444444444444,\"#bd3786\"],[0.5555555555555556,\"#d8576b\"],[0.6666666666666666,\"#ed7953\"],[0.7777777777777778,\"#fb9f3a\"],[0.8888888888888888,\"#fdca26\"],[1.0,\"#f0f921\"]]}],\"mesh3d\":[{\"type\":\"mesh3d\",\"colorbar\":{\"outlinewidth\":0,\"ticks\":\"\"}}],\"scatter\":[{\"fillpattern\":{\"fillmode\":\"overlay\",\"size\":10,\"solidity\":0.2},\"type\":\"scatter\"}],\"parcoords\":[{\"type\":\"parcoords\",\"line\":{\"colorbar\":{\"outlinewidth\":0,\"ticks\":\"\"}}}],\"scatterpolargl\":[{\"type\":\"scatterpolargl\",\"marker\":{\"colorbar\":{\"outlinewidth\":0,\"ticks\":\"\"}}}],\"bar\":[{\"error_x\":{\"color\":\"#2a3f5f\"},\"error_y\":{\"color\":\"#2a3f5f\"},\"marker\":{\"line\":{\"color\":\"#E5ECF6\",\"width\":0.5},\"pattern\":{\"fillmode\":\"overlay\",\"size\":10,\"solidity\":0.2}},\"type\":\"bar\"}],\"scattergeo\":[{\"type\":\"scattergeo\",\"marker\":{\"colorbar\":{\"outlinewidth\":0,\"ticks\":\"\"}}}],\"scatterpolar\":[{\"type\":\"scatterpolar\",\"marker\":{\"colorbar\":{\"outlinewidth\":0,\"ticks\":\"\"}}}],\"histogram\":[{\"marker\":{\"pattern\":{\"fillmode\":\"overlay\",\"size\":10,\"solidity\":0.2}},\"type\":\"histogram\"}],\"scattergl\":[{\"type\":\"scattergl\",\"marker\":{\"colorbar\":{\"outlinewidth\":0,\"ticks\":\"\"}}}],\"scatter3d\":[{\"type\":\"scatter3d\",\"line\":{\"colorbar\":{\"outlinewidth\":0,\"ticks\":\"\"}},\"marker\":{\"colorbar\":{\"outlinewidth\":0,\"ticks\":\"\"}}}],\"scattermapbox\":[{\"type\":\"scattermapbox\",\"marker\":{\"colorbar\":{\"outlinewidth\":0,\"ticks\":\"\"}}}],\"scatterternary\":[{\"type\":\"scatterternary\",\"marker\":{\"colorbar\":{\"outlinewidth\":0,\"ticks\":\"\"}}}],\"scattercarpet\":[{\"type\":\"scattercarpet\",\"marker\":{\"colorbar\":{\"outlinewidth\":0,\"ticks\":\"\"}}}],\"carpet\":[{\"aaxis\":{\"endlinecolor\":\"#2a3f5f\",\"gridcolor\":\"white\",\"linecolor\":\"white\",\"minorgridcolor\":\"white\",\"startlinecolor\":\"#2a3f5f\"},\"baxis\":{\"endlinecolor\":\"#2a3f5f\",\"gridcolor\":\"white\",\"linecolor\":\"white\",\"minorgridcolor\":\"white\",\"startlinecolor\":\"#2a3f5f\"},\"type\":\"carpet\"}],\"table\":[{\"cells\":{\"fill\":{\"color\":\"#EBF0F8\"},\"line\":{\"color\":\"white\"}},\"header\":{\"fill\":{\"color\":\"#C8D4E3\"},\"line\":{\"color\":\"white\"}},\"type\":\"table\"}],\"barpolar\":[{\"marker\":{\"line\":{\"color\":\"#E5ECF6\",\"width\":0.5},\"pattern\":{\"fillmode\":\"overlay\",\"size\":10,\"solidity\":0.2}},\"type\":\"barpolar\"}],\"pie\":[{\"automargin\":true,\"type\":\"pie\"}]},\"layout\":{\"autotypenumbers\":\"strict\",\"colorway\":[\"#636efa\",\"#EF553B\",\"#00cc96\",\"#ab63fa\",\"#FFA15A\",\"#19d3f3\",\"#FF6692\",\"#B6E880\",\"#FF97FF\",\"#FECB52\"],\"font\":{\"color\":\"#2a3f5f\"},\"hovermode\":\"closest\",\"hoverlabel\":{\"align\":\"left\"},\"paper_bgcolor\":\"white\",\"plot_bgcolor\":\"#E5ECF6\",\"polar\":{\"bgcolor\":\"#E5ECF6\",\"angularaxis\":{\"gridcolor\":\"white\",\"linecolor\":\"white\",\"ticks\":\"\"},\"radialaxis\":{\"gridcolor\":\"white\",\"linecolor\":\"white\",\"ticks\":\"\"}},\"ternary\":{\"bgcolor\":\"#E5ECF6\",\"aaxis\":{\"gridcolor\":\"white\",\"linecolor\":\"white\",\"ticks\":\"\"},\"baxis\":{\"gridcolor\":\"white\",\"linecolor\":\"white\",\"ticks\":\"\"},\"caxis\":{\"gridcolor\":\"white\",\"linecolor\":\"white\",\"ticks\":\"\"}},\"coloraxis\":{\"colorbar\":{\"outlinewidth\":0,\"ticks\":\"\"}},\"colorscale\":{\"sequential\":[[0.0,\"#0d0887\"],[0.1111111111111111,\"#46039f\"],[0.2222222222222222,\"#7201a8\"],[0.3333333333333333,\"#9c179e\"],[0.4444444444444444,\"#bd3786\"],[0.5555555555555556,\"#d8576b\"],[0.6666666666666666,\"#ed7953\"],[0.7777777777777778,\"#fb9f3a\"],[0.8888888888888888,\"#fdca26\"],[1.0,\"#f0f921\"]],\"sequentialminus\":[[0.0,\"#0d0887\"],[0.1111111111111111,\"#46039f\"],[0.2222222222222222,\"#7201a8\"],[0.3333333333333333,\"#9c179e\"],[0.4444444444444444,\"#bd3786\"],[0.5555555555555556,\"#d8576b\"],[0.6666666666666666,\"#ed7953\"],[0.7777777777777778,\"#fb9f3a\"],[0.8888888888888888,\"#fdca26\"],[1.0,\"#f0f921\"]],\"diverging\":[[0,\"#8e0152\"],[0.1,\"#c51b7d\"],[0.2,\"#de77ae\"],[0.3,\"#f1b6da\"],[0.4,\"#fde0ef\"],[0.5,\"#f7f7f7\"],[0.6,\"#e6f5d0\"],[0.7,\"#b8e186\"],[0.8,\"#7fbc41\"],[0.9,\"#4d9221\"],[1,\"#276419\"]]},\"xaxis\":{\"gridcolor\":\"white\",\"linecolor\":\"white\",\"ticks\":\"\",\"title\":{\"standoff\":15},\"zerolinecolor\":\"white\",\"automargin\":true,\"zerolinewidth\":2},\"yaxis\":{\"gridcolor\":\"white\",\"linecolor\":\"white\",\"ticks\":\"\",\"title\":{\"standoff\":15},\"zerolinecolor\":\"white\",\"automargin\":true,\"zerolinewidth\":2},\"scene\":{\"xaxis\":{\"backgroundcolor\":\"#E5ECF6\",\"gridcolor\":\"white\",\"linecolor\":\"white\",\"showbackground\":true,\"ticks\":\"\",\"zerolinecolor\":\"white\",\"gridwidth\":2},\"yaxis\":{\"backgroundcolor\":\"#E5ECF6\",\"gridcolor\":\"white\",\"linecolor\":\"white\",\"showbackground\":true,\"ticks\":\"\",\"zerolinecolor\":\"white\",\"gridwidth\":2},\"zaxis\":{\"backgroundcolor\":\"#E5ECF6\",\"gridcolor\":\"white\",\"linecolor\":\"white\",\"showbackground\":true,\"ticks\":\"\",\"zerolinecolor\":\"white\",\"gridwidth\":2}},\"shapedefaults\":{\"line\":{\"color\":\"#2a3f5f\"}},\"annotationdefaults\":{\"arrowcolor\":\"#2a3f5f\",\"arrowhead\":0,\"arrowwidth\":1},\"geo\":{\"bgcolor\":\"white\",\"landcolor\":\"#E5ECF6\",\"subunitcolor\":\"white\",\"showland\":true,\"showlakes\":true,\"lakecolor\":\"white\"},\"title\":{\"x\":0.05},\"mapbox\":{\"style\":\"light\"}}},\"xaxis\":{\"anchor\":\"y\",\"domain\":[0.0,1.0],\"title\":{\"text\":\"Year\"}},\"yaxis\":{\"anchor\":\"x\",\"domain\":[0.0,1.0],\"title\":{\"text\":\"Total TB Cases\"},\"tickformat\":\",\"},\"legend\":{\"tracegroupgap\":0},\"title\":{\"text\":\"\\ud83d\\udcc8 Global TB Trend Over Time (1990\\u20132013)\",\"font\":{\"size\":24}},\"font\":{\"size\":16,\"family\":\"Arial\"},\"margin\":{\"t\":60,\"b\":50,\"l\":60,\"r\":40},\"hoverlabel\":{\"font\":{\"size\":14,\"family\":\"Arial\"},\"bgcolor\":\"white\"},\"plot_bgcolor\":\"rgba(255,255,255,0.95)\",\"paper_bgcolor\":\"rgba(255,255,255,0.95)\"},                        {\"responsive\": true}                    ).then(function(){\n",
       "                            \n",
       "var gd = document.getElementById('21bec0df-9cc4-4f41-a75c-852f004735f5');\n",
       "var x = new MutationObserver(function (mutations, observer) {{\n",
       "        var display = window.getComputedStyle(gd).display;\n",
       "        if (!display || display === 'none') {{\n",
       "            console.log([gd, 'removed!']);\n",
       "            Plotly.purge(gd);\n",
       "            observer.disconnect();\n",
       "        }}\n",
       "}});\n",
       "\n",
       "// Listen for the removal of the full notebook cells\n",
       "var notebookContainer = gd.closest('#notebook-container');\n",
       "if (notebookContainer) {{\n",
       "    x.observe(notebookContainer, {childList: true});\n",
       "}}\n",
       "\n",
       "// Listen for the clearing of the current output cell\n",
       "var outputEl = gd.closest('.output');\n",
       "if (outputEl) {{\n",
       "    x.observe(outputEl, {childList: true});\n",
       "}}\n",
       "\n",
       "                        })                };                });            </script>        </div>"
      ]
     },
     "metadata": {},
     "output_type": "display_data"
    }
   ],
   "source": [
    "import plotly.express as px\n",
    "\n",
    "# Filter and group the data by year\n",
    "trend = df[df['Region'].isin(region_selector.value)]\n",
    "trend_grouped = trend.groupby('Year')['Total_Cases'].sum().reset_index()\n",
    "\n",
    "# Create a beautiful interactive line chart\n",
    "fig1 = px.line(\n",
    "    trend_grouped,\n",
    "    x='Year',\n",
    "    y='Total_Cases',\n",
    "    title='📈 Global TB Trend Over Time (1990–2013)',\n",
    "    markers=True,\n",
    "    line_shape='spline',\n",
    "    color_discrete_sequence=['#EF553B']  # Bold red-orange line\n",
    ")\n",
    "\n",
    "# Enhance trace and hover\n",
    "fig1.update_traces(\n",
    "    hovertemplate='<b>Year: %{x}</b><br>Total TB Cases: %{y:,}<extra></extra>',\n",
    "    line=dict(width=3)\n",
    ")\n",
    "\n",
    "# Beautify layout\n",
    "fig1.update_layout(\n",
    "    title_font_size=24,\n",
    "    xaxis_title='Year',\n",
    "    yaxis_title='Total TB Cases',\n",
    "    font=dict(size=16, family='Arial'),\n",
    "    yaxis_tickformat=',',\n",
    "    plot_bgcolor='rgba(255,255,255,0.95)',\n",
    "    paper_bgcolor='rgba(255,255,255,0.95)',\n",
    "    margin=dict(t=60, b=50, l=60, r=40),\n",
    "    hoverlabel=dict(bgcolor=\"white\", font_size=14, font_family=\"Arial\")\n",
    ")\n",
    "\n",
    "fig1.show()\n"
   ]
  },
  {
   "cell_type": "code",
   "execution_count": 50,
   "id": "6c9ebffe-b142-40ea-bb48-0aca37555267",
   "metadata": {},
   "outputs": [
    {
     "data": {
      "application/vnd.plotly.v1+json": {
       "config": {
        "plotlyServerURL": "https://plot.ly"
       },
       "data": [
        {
         "alignmentgroup": "True",
         "hovertemplate": "<b>%{x}</b><br>Total Cases: %{y:,}<extra></extra>",
         "legendgroup": "",
         "marker": {
          "color": [
           2100000,
           980000,
           590000,
           500000,
           460000,
           450000,
           350000,
           290000,
           220000,
           210000
          ],
          "coloraxis": "coloraxis",
          "pattern": {
           "shape": ""
          }
         },
         "name": "",
         "offsetgroup": "",
         "orientation": "v",
         "showlegend": false,
         "text": [
          2100000,
          980000,
          590000,
          500000,
          460000,
          450000,
          350000,
          290000,
          220000,
          210000
         ],
         "textposition": "outside",
         "texttemplate": "%{text:,}",
         "type": "bar",
         "x": [
          "India",
          "China",
          "Nigeria",
          "Pakistan",
          "Indonesia",
          "South Africa",
          "Bangladesh",
          "Philippines",
          "Democratic Republic of the Congo",
          "Ethiopia"
         ],
         "xaxis": "x",
         "y": [
          2100000,
          980000,
          590000,
          500000,
          460000,
          450000,
          350000,
          290000,
          220000,
          210000
         ],
         "yaxis": "y"
        }
       ],
       "layout": {
        "autosize": true,
        "barmode": "relative",
        "coloraxis": {
         "colorbar": {
          "title": {
           "text": "Total TB Cases"
          }
         },
         "colorscale": [
          [
           0,
           "#30123b"
          ],
          [
           0.07142857142857142,
           "#4145ab"
          ],
          [
           0.14285714285714285,
           "#4675ed"
          ],
          [
           0.21428571428571427,
           "#39a2fc"
          ],
          [
           0.2857142857142857,
           "#1bcfd4"
          ],
          [
           0.35714285714285715,
           "#24eca6"
          ],
          [
           0.42857142857142855,
           "#61fc6c"
          ],
          [
           0.5,
           "#a4fc3b"
          ],
          [
           0.5714285714285714,
           "#d1e834"
          ],
          [
           0.6428571428571429,
           "#f3c63a"
          ],
          [
           0.7142857142857143,
           "#fe9b2d"
          ],
          [
           0.7857142857142857,
           "#f36315"
          ],
          [
           0.8571428571428571,
           "#d93806"
          ],
          [
           0.9285714285714286,
           "#b11901"
          ],
          [
           1,
           "#7a0402"
          ]
         ],
         "showscale": false
        },
        "font": {
         "family": "Arial",
         "size": 15
        },
        "legend": {
         "tracegroupgap": 0
        },
        "margin": {
         "b": 80,
         "l": 50,
         "r": 30,
         "t": 70
        },
        "paper_bgcolor": "white",
        "plot_bgcolor": "white",
        "template": {
         "data": {
          "bar": [
           {
            "error_x": {
             "color": "#2a3f5f"
            },
            "error_y": {
             "color": "#2a3f5f"
            },
            "marker": {
             "line": {
              "color": "#E5ECF6",
              "width": 0.5
             },
             "pattern": {
              "fillmode": "overlay",
              "size": 10,
              "solidity": 0.2
             }
            },
            "type": "bar"
           }
          ],
          "barpolar": [
           {
            "marker": {
             "line": {
              "color": "#E5ECF6",
              "width": 0.5
             },
             "pattern": {
              "fillmode": "overlay",
              "size": 10,
              "solidity": 0.2
             }
            },
            "type": "barpolar"
           }
          ],
          "carpet": [
           {
            "aaxis": {
             "endlinecolor": "#2a3f5f",
             "gridcolor": "white",
             "linecolor": "white",
             "minorgridcolor": "white",
             "startlinecolor": "#2a3f5f"
            },
            "baxis": {
             "endlinecolor": "#2a3f5f",
             "gridcolor": "white",
             "linecolor": "white",
             "minorgridcolor": "white",
             "startlinecolor": "#2a3f5f"
            },
            "type": "carpet"
           }
          ],
          "choropleth": [
           {
            "colorbar": {
             "outlinewidth": 0,
             "ticks": ""
            },
            "type": "choropleth"
           }
          ],
          "contour": [
           {
            "colorbar": {
             "outlinewidth": 0,
             "ticks": ""
            },
            "colorscale": [
             [
              0,
              "#0d0887"
             ],
             [
              0.1111111111111111,
              "#46039f"
             ],
             [
              0.2222222222222222,
              "#7201a8"
             ],
             [
              0.3333333333333333,
              "#9c179e"
             ],
             [
              0.4444444444444444,
              "#bd3786"
             ],
             [
              0.5555555555555556,
              "#d8576b"
             ],
             [
              0.6666666666666666,
              "#ed7953"
             ],
             [
              0.7777777777777778,
              "#fb9f3a"
             ],
             [
              0.8888888888888888,
              "#fdca26"
             ],
             [
              1,
              "#f0f921"
             ]
            ],
            "type": "contour"
           }
          ],
          "contourcarpet": [
           {
            "colorbar": {
             "outlinewidth": 0,
             "ticks": ""
            },
            "type": "contourcarpet"
           }
          ],
          "heatmap": [
           {
            "colorbar": {
             "outlinewidth": 0,
             "ticks": ""
            },
            "colorscale": [
             [
              0,
              "#0d0887"
             ],
             [
              0.1111111111111111,
              "#46039f"
             ],
             [
              0.2222222222222222,
              "#7201a8"
             ],
             [
              0.3333333333333333,
              "#9c179e"
             ],
             [
              0.4444444444444444,
              "#bd3786"
             ],
             [
              0.5555555555555556,
              "#d8576b"
             ],
             [
              0.6666666666666666,
              "#ed7953"
             ],
             [
              0.7777777777777778,
              "#fb9f3a"
             ],
             [
              0.8888888888888888,
              "#fdca26"
             ],
             [
              1,
              "#f0f921"
             ]
            ],
            "type": "heatmap"
           }
          ],
          "heatmapgl": [
           {
            "colorbar": {
             "outlinewidth": 0,
             "ticks": ""
            },
            "colorscale": [
             [
              0,
              "#0d0887"
             ],
             [
              0.1111111111111111,
              "#46039f"
             ],
             [
              0.2222222222222222,
              "#7201a8"
             ],
             [
              0.3333333333333333,
              "#9c179e"
             ],
             [
              0.4444444444444444,
              "#bd3786"
             ],
             [
              0.5555555555555556,
              "#d8576b"
             ],
             [
              0.6666666666666666,
              "#ed7953"
             ],
             [
              0.7777777777777778,
              "#fb9f3a"
             ],
             [
              0.8888888888888888,
              "#fdca26"
             ],
             [
              1,
              "#f0f921"
             ]
            ],
            "type": "heatmapgl"
           }
          ],
          "histogram": [
           {
            "marker": {
             "pattern": {
              "fillmode": "overlay",
              "size": 10,
              "solidity": 0.2
             }
            },
            "type": "histogram"
           }
          ],
          "histogram2d": [
           {
            "colorbar": {
             "outlinewidth": 0,
             "ticks": ""
            },
            "colorscale": [
             [
              0,
              "#0d0887"
             ],
             [
              0.1111111111111111,
              "#46039f"
             ],
             [
              0.2222222222222222,
              "#7201a8"
             ],
             [
              0.3333333333333333,
              "#9c179e"
             ],
             [
              0.4444444444444444,
              "#bd3786"
             ],
             [
              0.5555555555555556,
              "#d8576b"
             ],
             [
              0.6666666666666666,
              "#ed7953"
             ],
             [
              0.7777777777777778,
              "#fb9f3a"
             ],
             [
              0.8888888888888888,
              "#fdca26"
             ],
             [
              1,
              "#f0f921"
             ]
            ],
            "type": "histogram2d"
           }
          ],
          "histogram2dcontour": [
           {
            "colorbar": {
             "outlinewidth": 0,
             "ticks": ""
            },
            "colorscale": [
             [
              0,
              "#0d0887"
             ],
             [
              0.1111111111111111,
              "#46039f"
             ],
             [
              0.2222222222222222,
              "#7201a8"
             ],
             [
              0.3333333333333333,
              "#9c179e"
             ],
             [
              0.4444444444444444,
              "#bd3786"
             ],
             [
              0.5555555555555556,
              "#d8576b"
             ],
             [
              0.6666666666666666,
              "#ed7953"
             ],
             [
              0.7777777777777778,
              "#fb9f3a"
             ],
             [
              0.8888888888888888,
              "#fdca26"
             ],
             [
              1,
              "#f0f921"
             ]
            ],
            "type": "histogram2dcontour"
           }
          ],
          "mesh3d": [
           {
            "colorbar": {
             "outlinewidth": 0,
             "ticks": ""
            },
            "type": "mesh3d"
           }
          ],
          "parcoords": [
           {
            "line": {
             "colorbar": {
              "outlinewidth": 0,
              "ticks": ""
             }
            },
            "type": "parcoords"
           }
          ],
          "pie": [
           {
            "automargin": true,
            "type": "pie"
           }
          ],
          "scatter": [
           {
            "fillpattern": {
             "fillmode": "overlay",
             "size": 10,
             "solidity": 0.2
            },
            "type": "scatter"
           }
          ],
          "scatter3d": [
           {
            "line": {
             "colorbar": {
              "outlinewidth": 0,
              "ticks": ""
             }
            },
            "marker": {
             "colorbar": {
              "outlinewidth": 0,
              "ticks": ""
             }
            },
            "type": "scatter3d"
           }
          ],
          "scattercarpet": [
           {
            "marker": {
             "colorbar": {
              "outlinewidth": 0,
              "ticks": ""
             }
            },
            "type": "scattercarpet"
           }
          ],
          "scattergeo": [
           {
            "marker": {
             "colorbar": {
              "outlinewidth": 0,
              "ticks": ""
             }
            },
            "type": "scattergeo"
           }
          ],
          "scattergl": [
           {
            "marker": {
             "colorbar": {
              "outlinewidth": 0,
              "ticks": ""
             }
            },
            "type": "scattergl"
           }
          ],
          "scattermapbox": [
           {
            "marker": {
             "colorbar": {
              "outlinewidth": 0,
              "ticks": ""
             }
            },
            "type": "scattermapbox"
           }
          ],
          "scatterpolar": [
           {
            "marker": {
             "colorbar": {
              "outlinewidth": 0,
              "ticks": ""
             }
            },
            "type": "scatterpolar"
           }
          ],
          "scatterpolargl": [
           {
            "marker": {
             "colorbar": {
              "outlinewidth": 0,
              "ticks": ""
             }
            },
            "type": "scatterpolargl"
           }
          ],
          "scatterternary": [
           {
            "marker": {
             "colorbar": {
              "outlinewidth": 0,
              "ticks": ""
             }
            },
            "type": "scatterternary"
           }
          ],
          "surface": [
           {
            "colorbar": {
             "outlinewidth": 0,
             "ticks": ""
            },
            "colorscale": [
             [
              0,
              "#0d0887"
             ],
             [
              0.1111111111111111,
              "#46039f"
             ],
             [
              0.2222222222222222,
              "#7201a8"
             ],
             [
              0.3333333333333333,
              "#9c179e"
             ],
             [
              0.4444444444444444,
              "#bd3786"
             ],
             [
              0.5555555555555556,
              "#d8576b"
             ],
             [
              0.6666666666666666,
              "#ed7953"
             ],
             [
              0.7777777777777778,
              "#fb9f3a"
             ],
             [
              0.8888888888888888,
              "#fdca26"
             ],
             [
              1,
              "#f0f921"
             ]
            ],
            "type": "surface"
           }
          ],
          "table": [
           {
            "cells": {
             "fill": {
              "color": "#EBF0F8"
             },
             "line": {
              "color": "white"
             }
            },
            "header": {
             "fill": {
              "color": "#C8D4E3"
             },
             "line": {
              "color": "white"
             }
            },
            "type": "table"
           }
          ]
         },
         "layout": {
          "annotationdefaults": {
           "arrowcolor": "#2a3f5f",
           "arrowhead": 0,
           "arrowwidth": 1
          },
          "autotypenumbers": "strict",
          "coloraxis": {
           "colorbar": {
            "outlinewidth": 0,
            "ticks": ""
           }
          },
          "colorscale": {
           "diverging": [
            [
             0,
             "#8e0152"
            ],
            [
             0.1,
             "#c51b7d"
            ],
            [
             0.2,
             "#de77ae"
            ],
            [
             0.3,
             "#f1b6da"
            ],
            [
             0.4,
             "#fde0ef"
            ],
            [
             0.5,
             "#f7f7f7"
            ],
            [
             0.6,
             "#e6f5d0"
            ],
            [
             0.7,
             "#b8e186"
            ],
            [
             0.8,
             "#7fbc41"
            ],
            [
             0.9,
             "#4d9221"
            ],
            [
             1,
             "#276419"
            ]
           ],
           "sequential": [
            [
             0,
             "#0d0887"
            ],
            [
             0.1111111111111111,
             "#46039f"
            ],
            [
             0.2222222222222222,
             "#7201a8"
            ],
            [
             0.3333333333333333,
             "#9c179e"
            ],
            [
             0.4444444444444444,
             "#bd3786"
            ],
            [
             0.5555555555555556,
             "#d8576b"
            ],
            [
             0.6666666666666666,
             "#ed7953"
            ],
            [
             0.7777777777777778,
             "#fb9f3a"
            ],
            [
             0.8888888888888888,
             "#fdca26"
            ],
            [
             1,
             "#f0f921"
            ]
           ],
           "sequentialminus": [
            [
             0,
             "#0d0887"
            ],
            [
             0.1111111111111111,
             "#46039f"
            ],
            [
             0.2222222222222222,
             "#7201a8"
            ],
            [
             0.3333333333333333,
             "#9c179e"
            ],
            [
             0.4444444444444444,
             "#bd3786"
            ],
            [
             0.5555555555555556,
             "#d8576b"
            ],
            [
             0.6666666666666666,
             "#ed7953"
            ],
            [
             0.7777777777777778,
             "#fb9f3a"
            ],
            [
             0.8888888888888888,
             "#fdca26"
            ],
            [
             1,
             "#f0f921"
            ]
           ]
          },
          "colorway": [
           "#636efa",
           "#EF553B",
           "#00cc96",
           "#ab63fa",
           "#FFA15A",
           "#19d3f3",
           "#FF6692",
           "#B6E880",
           "#FF97FF",
           "#FECB52"
          ],
          "font": {
           "color": "#2a3f5f"
          },
          "geo": {
           "bgcolor": "white",
           "lakecolor": "white",
           "landcolor": "#E5ECF6",
           "showlakes": true,
           "showland": true,
           "subunitcolor": "white"
          },
          "hoverlabel": {
           "align": "left"
          },
          "hovermode": "closest",
          "mapbox": {
           "style": "light"
          },
          "paper_bgcolor": "white",
          "plot_bgcolor": "#E5ECF6",
          "polar": {
           "angularaxis": {
            "gridcolor": "white",
            "linecolor": "white",
            "ticks": ""
           },
           "bgcolor": "#E5ECF6",
           "radialaxis": {
            "gridcolor": "white",
            "linecolor": "white",
            "ticks": ""
           }
          },
          "scene": {
           "xaxis": {
            "backgroundcolor": "#E5ECF6",
            "gridcolor": "white",
            "gridwidth": 2,
            "linecolor": "white",
            "showbackground": true,
            "ticks": "",
            "zerolinecolor": "white"
           },
           "yaxis": {
            "backgroundcolor": "#E5ECF6",
            "gridcolor": "white",
            "gridwidth": 2,
            "linecolor": "white",
            "showbackground": true,
            "ticks": "",
            "zerolinecolor": "white"
           },
           "zaxis": {
            "backgroundcolor": "#E5ECF6",
            "gridcolor": "white",
            "gridwidth": 2,
            "linecolor": "white",
            "showbackground": true,
            "ticks": "",
            "zerolinecolor": "white"
           }
          },
          "shapedefaults": {
           "line": {
            "color": "#2a3f5f"
           }
          },
          "ternary": {
           "aaxis": {
            "gridcolor": "white",
            "linecolor": "white",
            "ticks": ""
           },
           "baxis": {
            "gridcolor": "white",
            "linecolor": "white",
            "ticks": ""
           },
           "bgcolor": "#E5ECF6",
           "caxis": {
            "gridcolor": "white",
            "linecolor": "white",
            "ticks": ""
           }
          },
          "title": {
           "x": 0.05
          },
          "xaxis": {
           "automargin": true,
           "gridcolor": "white",
           "linecolor": "white",
           "ticks": "",
           "title": {
            "standoff": 15
           },
           "zerolinecolor": "white",
           "zerolinewidth": 2
          },
          "yaxis": {
           "automargin": true,
           "gridcolor": "white",
           "linecolor": "white",
           "ticks": "",
           "title": {
            "standoff": 15
           },
           "zerolinecolor": "white",
           "zerolinewidth": 2
          }
         }
        },
        "title": {
         "font": {
          "size": 22
         },
         "text": "🌍 Top 10 Countries by TB Cases in 2013"
        },
        "xaxis": {
         "anchor": "y",
         "autorange": true,
         "domain": [
          0,
          1
         ],
         "range": [
          -0.5,
          9.5
         ],
         "tickangle": -45,
         "title": {
          "text": "Country"
         },
         "type": "category"
        },
        "yaxis": {
         "anchor": "x",
         "autorange": true,
         "domain": [
          0,
          1
         ],
         "range": [
          0,
          2210526.3157894737
         ],
         "tickformat": ",",
         "title": {
          "text": "Total TB Cases"
         },
         "type": "linear"
        }
       }
      },
      "image/png": "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",
      "text/html": [
       "<div>                            <div id=\"54997d2f-d88c-4441-8ce3-25621b6e2de2\" class=\"plotly-graph-div\" style=\"height:525px; width:100%;\"></div>            <script type=\"text/javascript\">                require([\"plotly\"], function(Plotly) {                    window.PLOTLYENV=window.PLOTLYENV || {};                                    if (document.getElementById(\"54997d2f-d88c-4441-8ce3-25621b6e2de2\")) {                    Plotly.newPlot(                        \"54997d2f-d88c-4441-8ce3-25621b6e2de2\",                        [{\"alignmentgroup\":\"True\",\"hovertemplate\":\"<b>%{x}</b><br>Total Cases: %{y:,}<extra></extra>\",\"legendgroup\":\"\",\"marker\":{\"color\":[2100000.0,980000.0,590000.0,500000.0,460000.0,450000.0,350000.0,290000.0,220000.0,210000.0],\"coloraxis\":\"coloraxis\",\"pattern\":{\"shape\":\"\"}},\"name\":\"\",\"offsetgroup\":\"\",\"orientation\":\"v\",\"showlegend\":false,\"text\":[2100000.0,980000.0,590000.0,500000.0,460000.0,450000.0,350000.0,290000.0,220000.0,210000.0],\"textposition\":\"outside\",\"x\":[\"India\",\"China\",\"Nigeria\",\"Pakistan\",\"Indonesia\",\"South Africa\",\"Bangladesh\",\"Philippines\",\"Democratic Republic of the Congo\",\"Ethiopia\"],\"xaxis\":\"x\",\"y\":[2100000.0,980000.0,590000.0,500000.0,460000.0,450000.0,350000.0,290000.0,220000.0,210000.0],\"yaxis\":\"y\",\"type\":\"bar\",\"texttemplate\":\"%{text:,}\"}],                        {\"template\":{\"data\":{\"histogram2dcontour\":[{\"type\":\"histogram2dcontour\",\"colorbar\":{\"outlinewidth\":0,\"ticks\":\"\"},\"colorscale\":[[0.0,\"#0d0887\"],[0.1111111111111111,\"#46039f\"],[0.2222222222222222,\"#7201a8\"],[0.3333333333333333,\"#9c179e\"],[0.4444444444444444,\"#bd3786\"],[0.5555555555555556,\"#d8576b\"],[0.6666666666666666,\"#ed7953\"],[0.7777777777777778,\"#fb9f3a\"],[0.8888888888888888,\"#fdca26\"],[1.0,\"#f0f921\"]]}],\"choropleth\":[{\"type\":\"choropleth\",\"colorbar\":{\"outlinewidth\":0,\"ticks\":\"\"}}],\"histogram2d\":[{\"type\":\"histogram2d\",\"colorbar\":{\"outlinewidth\":0,\"ticks\":\"\"},\"colorscale\":[[0.0,\"#0d0887\"],[0.1111111111111111,\"#46039f\"],[0.2222222222222222,\"#7201a8\"],[0.3333333333333333,\"#9c179e\"],[0.4444444444444444,\"#bd3786\"],[0.5555555555555556,\"#d8576b\"],[0.6666666666666666,\"#ed7953\"],[0.7777777777777778,\"#fb9f3a\"],[0.8888888888888888,\"#fdca26\"],[1.0,\"#f0f921\"]]}],\"heatmap\":[{\"type\":\"heatmap\",\"colorbar\":{\"outlinewidth\":0,\"ticks\":\"\"},\"colorscale\":[[0.0,\"#0d0887\"],[0.1111111111111111,\"#46039f\"],[0.2222222222222222,\"#7201a8\"],[0.3333333333333333,\"#9c179e\"],[0.4444444444444444,\"#bd3786\"],[0.5555555555555556,\"#d8576b\"],[0.6666666666666666,\"#ed7953\"],[0.7777777777777778,\"#fb9f3a\"],[0.8888888888888888,\"#fdca26\"],[1.0,\"#f0f921\"]]}],\"heatmapgl\":[{\"type\":\"heatmapgl\",\"colorbar\":{\"outlinewidth\":0,\"ticks\":\"\"},\"colorscale\":[[0.0,\"#0d0887\"],[0.1111111111111111,\"#46039f\"],[0.2222222222222222,\"#7201a8\"],[0.3333333333333333,\"#9c179e\"],[0.4444444444444444,\"#bd3786\"],[0.5555555555555556,\"#d8576b\"],[0.6666666666666666,\"#ed7953\"],[0.7777777777777778,\"#fb9f3a\"],[0.8888888888888888,\"#fdca26\"],[1.0,\"#f0f921\"]]}],\"contourcarpet\":[{\"type\":\"contourcarpet\",\"colorbar\":{\"outlinewidth\":0,\"ticks\":\"\"}}],\"contour\":[{\"type\":\"contour\",\"colorbar\":{\"outlinewidth\":0,\"ticks\":\"\"},\"colorscale\":[[0.0,\"#0d0887\"],[0.1111111111111111,\"#46039f\"],[0.2222222222222222,\"#7201a8\"],[0.3333333333333333,\"#9c179e\"],[0.4444444444444444,\"#bd3786\"],[0.5555555555555556,\"#d8576b\"],[0.6666666666666666,\"#ed7953\"],[0.7777777777777778,\"#fb9f3a\"],[0.8888888888888888,\"#fdca26\"],[1.0,\"#f0f921\"]]}],\"surface\":[{\"type\":\"surface\",\"colorbar\":{\"outlinewidth\":0,\"ticks\":\"\"},\"colorscale\":[[0.0,\"#0d0887\"],[0.1111111111111111,\"#46039f\"],[0.2222222222222222,\"#7201a8\"],[0.3333333333333333,\"#9c179e\"],[0.4444444444444444,\"#bd3786\"],[0.5555555555555556,\"#d8576b\"],[0.6666666666666666,\"#ed7953\"],[0.7777777777777778,\"#fb9f3a\"],[0.8888888888888888,\"#fdca26\"],[1.0,\"#f0f921\"]]}],\"mesh3d\":[{\"type\":\"mesh3d\",\"colorbar\":{\"outlinewidth\":0,\"ticks\":\"\"}}],\"scatter\":[{\"fillpattern\":{\"fillmode\":\"overlay\",\"size\":10,\"solidity\":0.2},\"type\":\"scatter\"}],\"parcoords\":[{\"type\":\"parcoords\",\"line\":{\"colorbar\":{\"outlinewidth\":0,\"ticks\":\"\"}}}],\"scatterpolargl\":[{\"type\":\"scatterpolargl\",\"marker\":{\"colorbar\":{\"outlinewidth\":0,\"ticks\":\"\"}}}],\"bar\":[{\"error_x\":{\"color\":\"#2a3f5f\"},\"error_y\":{\"color\":\"#2a3f5f\"},\"marker\":{\"line\":{\"color\":\"#E5ECF6\",\"width\":0.5},\"pattern\":{\"fillmode\":\"overlay\",\"size\":10,\"solidity\":0.2}},\"type\":\"bar\"}],\"scattergeo\":[{\"type\":\"scattergeo\",\"marker\":{\"colorbar\":{\"outlinewidth\":0,\"ticks\":\"\"}}}],\"scatterpolar\":[{\"type\":\"scatterpolar\",\"marker\":{\"colorbar\":{\"outlinewidth\":0,\"ticks\":\"\"}}}],\"histogram\":[{\"marker\":{\"pattern\":{\"fillmode\":\"overlay\",\"size\":10,\"solidity\":0.2}},\"type\":\"histogram\"}],\"scattergl\":[{\"type\":\"scattergl\",\"marker\":{\"colorbar\":{\"outlinewidth\":0,\"ticks\":\"\"}}}],\"scatter3d\":[{\"type\":\"scatter3d\",\"line\":{\"colorbar\":{\"outlinewidth\":0,\"ticks\":\"\"}},\"marker\":{\"colorbar\":{\"outlinewidth\":0,\"ticks\":\"\"}}}],\"scattermapbox\":[{\"type\":\"scattermapbox\",\"marker\":{\"colorbar\":{\"outlinewidth\":0,\"ticks\":\"\"}}}],\"scatterternary\":[{\"type\":\"scatterternary\",\"marker\":{\"colorbar\":{\"outlinewidth\":0,\"ticks\":\"\"}}}],\"scattercarpet\":[{\"type\":\"scattercarpet\",\"marker\":{\"colorbar\":{\"outlinewidth\":0,\"ticks\":\"\"}}}],\"carpet\":[{\"aaxis\":{\"endlinecolor\":\"#2a3f5f\",\"gridcolor\":\"white\",\"linecolor\":\"white\",\"minorgridcolor\":\"white\",\"startlinecolor\":\"#2a3f5f\"},\"baxis\":{\"endlinecolor\":\"#2a3f5f\",\"gridcolor\":\"white\",\"linecolor\":\"white\",\"minorgridcolor\":\"white\",\"startlinecolor\":\"#2a3f5f\"},\"type\":\"carpet\"}],\"table\":[{\"cells\":{\"fill\":{\"color\":\"#EBF0F8\"},\"line\":{\"color\":\"white\"}},\"header\":{\"fill\":{\"color\":\"#C8D4E3\"},\"line\":{\"color\":\"white\"}},\"type\":\"table\"}],\"barpolar\":[{\"marker\":{\"line\":{\"color\":\"#E5ECF6\",\"width\":0.5},\"pattern\":{\"fillmode\":\"overlay\",\"size\":10,\"solidity\":0.2}},\"type\":\"barpolar\"}],\"pie\":[{\"automargin\":true,\"type\":\"pie\"}]},\"layout\":{\"autotypenumbers\":\"strict\",\"colorway\":[\"#636efa\",\"#EF553B\",\"#00cc96\",\"#ab63fa\",\"#FFA15A\",\"#19d3f3\",\"#FF6692\",\"#B6E880\",\"#FF97FF\",\"#FECB52\"],\"font\":{\"color\":\"#2a3f5f\"},\"hovermode\":\"closest\",\"hoverlabel\":{\"align\":\"left\"},\"paper_bgcolor\":\"white\",\"plot_bgcolor\":\"#E5ECF6\",\"polar\":{\"bgcolor\":\"#E5ECF6\",\"angularaxis\":{\"gridcolor\":\"white\",\"linecolor\":\"white\",\"ticks\":\"\"},\"radialaxis\":{\"gridcolor\":\"white\",\"linecolor\":\"white\",\"ticks\":\"\"}},\"ternary\":{\"bgcolor\":\"#E5ECF6\",\"aaxis\":{\"gridcolor\":\"white\",\"linecolor\":\"white\",\"ticks\":\"\"},\"baxis\":{\"gridcolor\":\"white\",\"linecolor\":\"white\",\"ticks\":\"\"},\"caxis\":{\"gridcolor\":\"white\",\"linecolor\":\"white\",\"ticks\":\"\"}},\"coloraxis\":{\"colorbar\":{\"outlinewidth\":0,\"ticks\":\"\"}},\"colorscale\":{\"sequential\":[[0.0,\"#0d0887\"],[0.1111111111111111,\"#46039f\"],[0.2222222222222222,\"#7201a8\"],[0.3333333333333333,\"#9c179e\"],[0.4444444444444444,\"#bd3786\"],[0.5555555555555556,\"#d8576b\"],[0.6666666666666666,\"#ed7953\"],[0.7777777777777778,\"#fb9f3a\"],[0.8888888888888888,\"#fdca26\"],[1.0,\"#f0f921\"]],\"sequentialminus\":[[0.0,\"#0d0887\"],[0.1111111111111111,\"#46039f\"],[0.2222222222222222,\"#7201a8\"],[0.3333333333333333,\"#9c179e\"],[0.4444444444444444,\"#bd3786\"],[0.5555555555555556,\"#d8576b\"],[0.6666666666666666,\"#ed7953\"],[0.7777777777777778,\"#fb9f3a\"],[0.8888888888888888,\"#fdca26\"],[1.0,\"#f0f921\"]],\"diverging\":[[0,\"#8e0152\"],[0.1,\"#c51b7d\"],[0.2,\"#de77ae\"],[0.3,\"#f1b6da\"],[0.4,\"#fde0ef\"],[0.5,\"#f7f7f7\"],[0.6,\"#e6f5d0\"],[0.7,\"#b8e186\"],[0.8,\"#7fbc41\"],[0.9,\"#4d9221\"],[1,\"#276419\"]]},\"xaxis\":{\"gridcolor\":\"white\",\"linecolor\":\"white\",\"ticks\":\"\",\"title\":{\"standoff\":15},\"zerolinecolor\":\"white\",\"automargin\":true,\"zerolinewidth\":2},\"yaxis\":{\"gridcolor\":\"white\",\"linecolor\":\"white\",\"ticks\":\"\",\"title\":{\"standoff\":15},\"zerolinecolor\":\"white\",\"automargin\":true,\"zerolinewidth\":2},\"scene\":{\"xaxis\":{\"backgroundcolor\":\"#E5ECF6\",\"gridcolor\":\"white\",\"linecolor\":\"white\",\"showbackground\":true,\"ticks\":\"\",\"zerolinecolor\":\"white\",\"gridwidth\":2},\"yaxis\":{\"backgroundcolor\":\"#E5ECF6\",\"gridcolor\":\"white\",\"linecolor\":\"white\",\"showbackground\":true,\"ticks\":\"\",\"zerolinecolor\":\"white\",\"gridwidth\":2},\"zaxis\":{\"backgroundcolor\":\"#E5ECF6\",\"gridcolor\":\"white\",\"linecolor\":\"white\",\"showbackground\":true,\"ticks\":\"\",\"zerolinecolor\":\"white\",\"gridwidth\":2}},\"shapedefaults\":{\"line\":{\"color\":\"#2a3f5f\"}},\"annotationdefaults\":{\"arrowcolor\":\"#2a3f5f\",\"arrowhead\":0,\"arrowwidth\":1},\"geo\":{\"bgcolor\":\"white\",\"landcolor\":\"#E5ECF6\",\"subunitcolor\":\"white\",\"showland\":true,\"showlakes\":true,\"lakecolor\":\"white\"},\"title\":{\"x\":0.05},\"mapbox\":{\"style\":\"light\"}}},\"xaxis\":{\"anchor\":\"y\",\"domain\":[0.0,1.0],\"title\":{\"text\":\"Country\"},\"tickangle\":-45},\"yaxis\":{\"anchor\":\"x\",\"domain\":[0.0,1.0],\"title\":{\"text\":\"Total TB Cases\"},\"tickformat\":\",\"},\"coloraxis\":{\"colorbar\":{\"title\":{\"text\":\"Total TB Cases\"}},\"colorscale\":[[0.0,\"#30123b\"],[0.07142857142857142,\"#4145ab\"],[0.14285714285714285,\"#4675ed\"],[0.21428571428571427,\"#39a2fc\"],[0.2857142857142857,\"#1bcfd4\"],[0.35714285714285715,\"#24eca6\"],[0.42857142857142855,\"#61fc6c\"],[0.5,\"#a4fc3b\"],[0.5714285714285714,\"#d1e834\"],[0.6428571428571429,\"#f3c63a\"],[0.7142857142857143,\"#fe9b2d\"],[0.7857142857142857,\"#f36315\"],[0.8571428571428571,\"#d93806\"],[0.9285714285714286,\"#b11901\"],[1.0,\"#7a0402\"]],\"showscale\":false},\"legend\":{\"tracegroupgap\":0},\"title\":{\"text\":\"\\ud83c\\udf0d Top 10 Countries by TB Cases in 2013\",\"font\":{\"size\":22}},\"barmode\":\"relative\",\"font\":{\"size\":15,\"family\":\"Arial\"},\"margin\":{\"l\":50,\"r\":30,\"t\":70,\"b\":80},\"plot_bgcolor\":\"white\",\"paper_bgcolor\":\"white\"},                        {\"responsive\": true}                    ).then(function(){\n",
       "                            \n",
       "var gd = document.getElementById('54997d2f-d88c-4441-8ce3-25621b6e2de2');\n",
       "var x = new MutationObserver(function (mutations, observer) {{\n",
       "        var display = window.getComputedStyle(gd).display;\n",
       "        if (!display || display === 'none') {{\n",
       "            console.log([gd, 'removed!']);\n",
       "            Plotly.purge(gd);\n",
       "            observer.disconnect();\n",
       "        }}\n",
       "}});\n",
       "\n",
       "// Listen for the removal of the full notebook cells\n",
       "var notebookContainer = gd.closest('#notebook-container');\n",
       "if (notebookContainer) {{\n",
       "    x.observe(notebookContainer, {childList: true});\n",
       "}}\n",
       "\n",
       "// Listen for the clearing of the current output cell\n",
       "var outputEl = gd.closest('.output');\n",
       "if (outputEl) {{\n",
       "    x.observe(outputEl, {childList: true});\n",
       "}}\n",
       "\n",
       "                        })                };                });            </script>        </div>"
      ]
     },
     "metadata": {},
     "output_type": "display_data"
    }
   ],
   "source": [
    "\n",
    "# Filter and sort top 10\n",
    "top_countries = filter_data(year_slider.value, region_selector.value)\n",
    "top_countries = top_countries.sort_values('Total_Cases', ascending=False).head(10)\n",
    "\n",
    "# Enhanced interactive bar chart with better colors\n",
    "fig2 = px.bar(\n",
    "    top_countries,\n",
    "    x='Country',\n",
    "    y='Total_Cases',\n",
    "    color='Total_Cases',\n",
    "    text='Total_Cases',\n",
    "    color_continuous_scale='Turbo',\n",
    "    title=f\"🌍 Top 10 Countries by TB Cases in {year_slider.value}\",\n",
    "    labels={'Total_Cases': 'Total TB Cases'}\n",
    ")\n",
    "\n",
    "fig2.update_traces(\n",
    "    texttemplate='%{text:,}',  # format numbers with commas\n",
    "    textposition='outside',\n",
    "    hovertemplate='<b>%{x}</b><br>Total Cases: %{y:,}<extra></extra>'\n",
    ")\n",
    "\n",
    "fig2.update_layout(\n",
    "    title_font_size=22,\n",
    "    xaxis_tickangle=-45,\n",
    "    xaxis_title='Country',\n",
    "    yaxis_title='Total TB Cases',\n",
    "    yaxis_tickformat=',',\n",
    "    coloraxis_showscale=False,\n",
    "    plot_bgcolor='white',\n",
    "    paper_bgcolor='white',\n",
    "    font=dict(size=15, family='Arial'),\n",
    "    margin=dict(l=50, r=30, t=70, b=80)\n",
    ")\n",
    "\n",
    "fig2.show()\n"
   ]
  },
  {
   "cell_type": "code",
   "execution_count": 61,
   "id": "828b99b1-3641-4c85-954e-89cc86c66b94",
   "metadata": {},
   "outputs": [
    {
     "data": {
      "application/vnd.plotly.v1+json": {
       "config": {
        "plotlyServerURL": "https://plot.ly"
       },
       "data": [
        {
         "domain": {
          "x": [
           0,
           1
          ],
          "y": [
           0,
           1
          ]
         },
         "hole": 0.5,
         "hovertemplate": "<b>%{label}</b><br>Total Cases: %{value:,}<br>Share: %{percent}<extra></extra>",
         "labels": [
          "AFR",
          "AMR",
          "EMR",
          "EUR",
          "SEA",
          "WPR"
         ],
         "legendgroup": "",
         "name": "",
         "pull": [
          0.05,
          0.05,
          0.05,
          0.05,
          0.05,
          0.05
         ],
         "showlegend": true,
         "textinfo": "percent+label",
         "type": "pie",
         "values": [
          2595728,
          285212.8,
          741950,
          359760.07,
          3364040,
          1617034.4
         ]
        }
       ],
       "layout": {
        "font": {
         "family": "Arial",
         "size": 16
        },
        "height": 600,
        "hiddenlabels": [],
        "legend": {
         "title": {
          "text": "Region"
         },
         "tracegroupgap": 0
        },
        "margin": {
         "b": 40,
         "l": 40,
         "r": 40,
         "t": 70
        },
        "paper_bgcolor": "white",
        "piecolorway": [
         "rgb(127, 60, 141)",
         "rgb(17, 165, 121)",
         "rgb(57, 105, 172)",
         "rgb(242, 183, 1)",
         "rgb(231, 63, 116)",
         "rgb(128, 186, 90)",
         "rgb(230, 131, 16)",
         "rgb(0, 134, 149)",
         "rgb(207, 28, 144)",
         "rgb(249, 123, 114)",
         "rgb(165, 170, 153)"
        ],
        "plot_bgcolor": "white",
        "showlegend": true,
        "template": {
         "data": {
          "bar": [
           {
            "error_x": {
             "color": "#2a3f5f"
            },
            "error_y": {
             "color": "#2a3f5f"
            },
            "marker": {
             "line": {
              "color": "#E5ECF6",
              "width": 0.5
             },
             "pattern": {
              "fillmode": "overlay",
              "size": 10,
              "solidity": 0.2
             }
            },
            "type": "bar"
           }
          ],
          "barpolar": [
           {
            "marker": {
             "line": {
              "color": "#E5ECF6",
              "width": 0.5
             },
             "pattern": {
              "fillmode": "overlay",
              "size": 10,
              "solidity": 0.2
             }
            },
            "type": "barpolar"
           }
          ],
          "carpet": [
           {
            "aaxis": {
             "endlinecolor": "#2a3f5f",
             "gridcolor": "white",
             "linecolor": "white",
             "minorgridcolor": "white",
             "startlinecolor": "#2a3f5f"
            },
            "baxis": {
             "endlinecolor": "#2a3f5f",
             "gridcolor": "white",
             "linecolor": "white",
             "minorgridcolor": "white",
             "startlinecolor": "#2a3f5f"
            },
            "type": "carpet"
           }
          ],
          "choropleth": [
           {
            "colorbar": {
             "outlinewidth": 0,
             "ticks": ""
            },
            "type": "choropleth"
           }
          ],
          "contour": [
           {
            "colorbar": {
             "outlinewidth": 0,
             "ticks": ""
            },
            "colorscale": [
             [
              0,
              "#0d0887"
             ],
             [
              0.1111111111111111,
              "#46039f"
             ],
             [
              0.2222222222222222,
              "#7201a8"
             ],
             [
              0.3333333333333333,
              "#9c179e"
             ],
             [
              0.4444444444444444,
              "#bd3786"
             ],
             [
              0.5555555555555556,
              "#d8576b"
             ],
             [
              0.6666666666666666,
              "#ed7953"
             ],
             [
              0.7777777777777778,
              "#fb9f3a"
             ],
             [
              0.8888888888888888,
              "#fdca26"
             ],
             [
              1,
              "#f0f921"
             ]
            ],
            "type": "contour"
           }
          ],
          "contourcarpet": [
           {
            "colorbar": {
             "outlinewidth": 0,
             "ticks": ""
            },
            "type": "contourcarpet"
           }
          ],
          "heatmap": [
           {
            "colorbar": {
             "outlinewidth": 0,
             "ticks": ""
            },
            "colorscale": [
             [
              0,
              "#0d0887"
             ],
             [
              0.1111111111111111,
              "#46039f"
             ],
             [
              0.2222222222222222,
              "#7201a8"
             ],
             [
              0.3333333333333333,
              "#9c179e"
             ],
             [
              0.4444444444444444,
              "#bd3786"
             ],
             [
              0.5555555555555556,
              "#d8576b"
             ],
             [
              0.6666666666666666,
              "#ed7953"
             ],
             [
              0.7777777777777778,
              "#fb9f3a"
             ],
             [
              0.8888888888888888,
              "#fdca26"
             ],
             [
              1,
              "#f0f921"
             ]
            ],
            "type": "heatmap"
           }
          ],
          "heatmapgl": [
           {
            "colorbar": {
             "outlinewidth": 0,
             "ticks": ""
            },
            "colorscale": [
             [
              0,
              "#0d0887"
             ],
             [
              0.1111111111111111,
              "#46039f"
             ],
             [
              0.2222222222222222,
              "#7201a8"
             ],
             [
              0.3333333333333333,
              "#9c179e"
             ],
             [
              0.4444444444444444,
              "#bd3786"
             ],
             [
              0.5555555555555556,
              "#d8576b"
             ],
             [
              0.6666666666666666,
              "#ed7953"
             ],
             [
              0.7777777777777778,
              "#fb9f3a"
             ],
             [
              0.8888888888888888,
              "#fdca26"
             ],
             [
              1,
              "#f0f921"
             ]
            ],
            "type": "heatmapgl"
           }
          ],
          "histogram": [
           {
            "marker": {
             "pattern": {
              "fillmode": "overlay",
              "size": 10,
              "solidity": 0.2
             }
            },
            "type": "histogram"
           }
          ],
          "histogram2d": [
           {
            "colorbar": {
             "outlinewidth": 0,
             "ticks": ""
            },
            "colorscale": [
             [
              0,
              "#0d0887"
             ],
             [
              0.1111111111111111,
              "#46039f"
             ],
             [
              0.2222222222222222,
              "#7201a8"
             ],
             [
              0.3333333333333333,
              "#9c179e"
             ],
             [
              0.4444444444444444,
              "#bd3786"
             ],
             [
              0.5555555555555556,
              "#d8576b"
             ],
             [
              0.6666666666666666,
              "#ed7953"
             ],
             [
              0.7777777777777778,
              "#fb9f3a"
             ],
             [
              0.8888888888888888,
              "#fdca26"
             ],
             [
              1,
              "#f0f921"
             ]
            ],
            "type": "histogram2d"
           }
          ],
          "histogram2dcontour": [
           {
            "colorbar": {
             "outlinewidth": 0,
             "ticks": ""
            },
            "colorscale": [
             [
              0,
              "#0d0887"
             ],
             [
              0.1111111111111111,
              "#46039f"
             ],
             [
              0.2222222222222222,
              "#7201a8"
             ],
             [
              0.3333333333333333,
              "#9c179e"
             ],
             [
              0.4444444444444444,
              "#bd3786"
             ],
             [
              0.5555555555555556,
              "#d8576b"
             ],
             [
              0.6666666666666666,
              "#ed7953"
             ],
             [
              0.7777777777777778,
              "#fb9f3a"
             ],
             [
              0.8888888888888888,
              "#fdca26"
             ],
             [
              1,
              "#f0f921"
             ]
            ],
            "type": "histogram2dcontour"
           }
          ],
          "mesh3d": [
           {
            "colorbar": {
             "outlinewidth": 0,
             "ticks": ""
            },
            "type": "mesh3d"
           }
          ],
          "parcoords": [
           {
            "line": {
             "colorbar": {
              "outlinewidth": 0,
              "ticks": ""
             }
            },
            "type": "parcoords"
           }
          ],
          "pie": [
           {
            "automargin": true,
            "type": "pie"
           }
          ],
          "scatter": [
           {
            "fillpattern": {
             "fillmode": "overlay",
             "size": 10,
             "solidity": 0.2
            },
            "type": "scatter"
           }
          ],
          "scatter3d": [
           {
            "line": {
             "colorbar": {
              "outlinewidth": 0,
              "ticks": ""
             }
            },
            "marker": {
             "colorbar": {
              "outlinewidth": 0,
              "ticks": ""
             }
            },
            "type": "scatter3d"
           }
          ],
          "scattercarpet": [
           {
            "marker": {
             "colorbar": {
              "outlinewidth": 0,
              "ticks": ""
             }
            },
            "type": "scattercarpet"
           }
          ],
          "scattergeo": [
           {
            "marker": {
             "colorbar": {
              "outlinewidth": 0,
              "ticks": ""
             }
            },
            "type": "scattergeo"
           }
          ],
          "scattergl": [
           {
            "marker": {
             "colorbar": {
              "outlinewidth": 0,
              "ticks": ""
             }
            },
            "type": "scattergl"
           }
          ],
          "scattermapbox": [
           {
            "marker": {
             "colorbar": {
              "outlinewidth": 0,
              "ticks": ""
             }
            },
            "type": "scattermapbox"
           }
          ],
          "scatterpolar": [
           {
            "marker": {
             "colorbar": {
              "outlinewidth": 0,
              "ticks": ""
             }
            },
            "type": "scatterpolar"
           }
          ],
          "scatterpolargl": [
           {
            "marker": {
             "colorbar": {
              "outlinewidth": 0,
              "ticks": ""
             }
            },
            "type": "scatterpolargl"
           }
          ],
          "scatterternary": [
           {
            "marker": {
             "colorbar": {
              "outlinewidth": 0,
              "ticks": ""
             }
            },
            "type": "scatterternary"
           }
          ],
          "surface": [
           {
            "colorbar": {
             "outlinewidth": 0,
             "ticks": ""
            },
            "colorscale": [
             [
              0,
              "#0d0887"
             ],
             [
              0.1111111111111111,
              "#46039f"
             ],
             [
              0.2222222222222222,
              "#7201a8"
             ],
             [
              0.3333333333333333,
              "#9c179e"
             ],
             [
              0.4444444444444444,
              "#bd3786"
             ],
             [
              0.5555555555555556,
              "#d8576b"
             ],
             [
              0.6666666666666666,
              "#ed7953"
             ],
             [
              0.7777777777777778,
              "#fb9f3a"
             ],
             [
              0.8888888888888888,
              "#fdca26"
             ],
             [
              1,
              "#f0f921"
             ]
            ],
            "type": "surface"
           }
          ],
          "table": [
           {
            "cells": {
             "fill": {
              "color": "#EBF0F8"
             },
             "line": {
              "color": "white"
             }
            },
            "header": {
             "fill": {
              "color": "#C8D4E3"
             },
             "line": {
              "color": "white"
             }
            },
            "type": "table"
           }
          ]
         },
         "layout": {
          "annotationdefaults": {
           "arrowcolor": "#2a3f5f",
           "arrowhead": 0,
           "arrowwidth": 1
          },
          "autotypenumbers": "strict",
          "coloraxis": {
           "colorbar": {
            "outlinewidth": 0,
            "ticks": ""
           }
          },
          "colorscale": {
           "diverging": [
            [
             0,
             "#8e0152"
            ],
            [
             0.1,
             "#c51b7d"
            ],
            [
             0.2,
             "#de77ae"
            ],
            [
             0.3,
             "#f1b6da"
            ],
            [
             0.4,
             "#fde0ef"
            ],
            [
             0.5,
             "#f7f7f7"
            ],
            [
             0.6,
             "#e6f5d0"
            ],
            [
             0.7,
             "#b8e186"
            ],
            [
             0.8,
             "#7fbc41"
            ],
            [
             0.9,
             "#4d9221"
            ],
            [
             1,
             "#276419"
            ]
           ],
           "sequential": [
            [
             0,
             "#0d0887"
            ],
            [
             0.1111111111111111,
             "#46039f"
            ],
            [
             0.2222222222222222,
             "#7201a8"
            ],
            [
             0.3333333333333333,
             "#9c179e"
            ],
            [
             0.4444444444444444,
             "#bd3786"
            ],
            [
             0.5555555555555556,
             "#d8576b"
            ],
            [
             0.6666666666666666,
             "#ed7953"
            ],
            [
             0.7777777777777778,
             "#fb9f3a"
            ],
            [
             0.8888888888888888,
             "#fdca26"
            ],
            [
             1,
             "#f0f921"
            ]
           ],
           "sequentialminus": [
            [
             0,
             "#0d0887"
            ],
            [
             0.1111111111111111,
             "#46039f"
            ],
            [
             0.2222222222222222,
             "#7201a8"
            ],
            [
             0.3333333333333333,
             "#9c179e"
            ],
            [
             0.4444444444444444,
             "#bd3786"
            ],
            [
             0.5555555555555556,
             "#d8576b"
            ],
            [
             0.6666666666666666,
             "#ed7953"
            ],
            [
             0.7777777777777778,
             "#fb9f3a"
            ],
            [
             0.8888888888888888,
             "#fdca26"
            ],
            [
             1,
             "#f0f921"
            ]
           ]
          },
          "colorway": [
           "#636efa",
           "#EF553B",
           "#00cc96",
           "#ab63fa",
           "#FFA15A",
           "#19d3f3",
           "#FF6692",
           "#B6E880",
           "#FF97FF",
           "#FECB52"
          ],
          "font": {
           "color": "#2a3f5f"
          },
          "geo": {
           "bgcolor": "white",
           "lakecolor": "white",
           "landcolor": "#E5ECF6",
           "showlakes": true,
           "showland": true,
           "subunitcolor": "white"
          },
          "hoverlabel": {
           "align": "left"
          },
          "hovermode": "closest",
          "mapbox": {
           "style": "light"
          },
          "paper_bgcolor": "white",
          "plot_bgcolor": "#E5ECF6",
          "polar": {
           "angularaxis": {
            "gridcolor": "white",
            "linecolor": "white",
            "ticks": ""
           },
           "bgcolor": "#E5ECF6",
           "radialaxis": {
            "gridcolor": "white",
            "linecolor": "white",
            "ticks": ""
           }
          },
          "scene": {
           "xaxis": {
            "backgroundcolor": "#E5ECF6",
            "gridcolor": "white",
            "gridwidth": 2,
            "linecolor": "white",
            "showbackground": true,
            "ticks": "",
            "zerolinecolor": "white"
           },
           "yaxis": {
            "backgroundcolor": "#E5ECF6",
            "gridcolor": "white",
            "gridwidth": 2,
            "linecolor": "white",
            "showbackground": true,
            "ticks": "",
            "zerolinecolor": "white"
           },
           "zaxis": {
            "backgroundcolor": "#E5ECF6",
            "gridcolor": "white",
            "gridwidth": 2,
            "linecolor": "white",
            "showbackground": true,
            "ticks": "",
            "zerolinecolor": "white"
           }
          },
          "shapedefaults": {
           "line": {
            "color": "#2a3f5f"
           }
          },
          "ternary": {
           "aaxis": {
            "gridcolor": "white",
            "linecolor": "white",
            "ticks": ""
           },
           "baxis": {
            "gridcolor": "white",
            "linecolor": "white",
            "ticks": ""
           },
           "bgcolor": "#E5ECF6",
           "caxis": {
            "gridcolor": "white",
            "linecolor": "white",
            "ticks": ""
           }
          },
          "title": {
           "x": 0.05
          },
          "xaxis": {
           "automargin": true,
           "gridcolor": "white",
           "linecolor": "white",
           "ticks": "",
           "title": {
            "standoff": 15
           },
           "zerolinecolor": "white",
           "zerolinewidth": 2
          },
          "yaxis": {
           "automargin": true,
           "gridcolor": "white",
           "linecolor": "white",
           "ticks": "",
           "title": {
            "standoff": 15
           },
           "zerolinecolor": "white",
           "zerolinewidth": 2
          }
         }
        },
        "title": {
         "font": {
          "size": 24
         },
         "text": "🌍 TB Case Distribution by Region in 2013"
        },
        "width": 600
       }
      },
      "image/png": "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",
      "text/html": [
       "<div>                            <div id=\"b324b45b-1f53-438a-bfcd-4e069c3d0dbb\" class=\"plotly-graph-div\" style=\"height:600px; width:600px;\"></div>            <script type=\"text/javascript\">                require([\"plotly\"], function(Plotly) {                    window.PLOTLYENV=window.PLOTLYENV || {};                                    if (document.getElementById(\"b324b45b-1f53-438a-bfcd-4e069c3d0dbb\")) {                    Plotly.newPlot(                        \"b324b45b-1f53-438a-bfcd-4e069c3d0dbb\",                        [{\"domain\":{\"x\":[0.0,1.0],\"y\":[0.0,1.0]},\"hole\":0.5,\"hovertemplate\":\"<b>%{label}</b><br>Total Cases: %{value:,}<br>Share: %{percent}<extra></extra>\",\"labels\":[\"AFR\",\"AMR\",\"EMR\",\"EUR\",\"SEA\",\"WPR\"],\"legendgroup\":\"\",\"name\":\"\",\"showlegend\":true,\"values\":[2595728.0,285212.8,741950.0,359760.07,3364040.0,1617034.4],\"type\":\"pie\",\"pull\":[0.05,0.05,0.05,0.05,0.05,0.05],\"textinfo\":\"percent+label\"}],                        {\"template\":{\"data\":{\"histogram2dcontour\":[{\"type\":\"histogram2dcontour\",\"colorbar\":{\"outlinewidth\":0,\"ticks\":\"\"},\"colorscale\":[[0.0,\"#0d0887\"],[0.1111111111111111,\"#46039f\"],[0.2222222222222222,\"#7201a8\"],[0.3333333333333333,\"#9c179e\"],[0.4444444444444444,\"#bd3786\"],[0.5555555555555556,\"#d8576b\"],[0.6666666666666666,\"#ed7953\"],[0.7777777777777778,\"#fb9f3a\"],[0.8888888888888888,\"#fdca26\"],[1.0,\"#f0f921\"]]}],\"choropleth\":[{\"type\":\"choropleth\",\"colorbar\":{\"outlinewidth\":0,\"ticks\":\"\"}}],\"histogram2d\":[{\"type\":\"histogram2d\",\"colorbar\":{\"outlinewidth\":0,\"ticks\":\"\"},\"colorscale\":[[0.0,\"#0d0887\"],[0.1111111111111111,\"#46039f\"],[0.2222222222222222,\"#7201a8\"],[0.3333333333333333,\"#9c179e\"],[0.4444444444444444,\"#bd3786\"],[0.5555555555555556,\"#d8576b\"],[0.6666666666666666,\"#ed7953\"],[0.7777777777777778,\"#fb9f3a\"],[0.8888888888888888,\"#fdca26\"],[1.0,\"#f0f921\"]]}],\"heatmap\":[{\"type\":\"heatmap\",\"colorbar\":{\"outlinewidth\":0,\"ticks\":\"\"},\"colorscale\":[[0.0,\"#0d0887\"],[0.1111111111111111,\"#46039f\"],[0.2222222222222222,\"#7201a8\"],[0.3333333333333333,\"#9c179e\"],[0.4444444444444444,\"#bd3786\"],[0.5555555555555556,\"#d8576b\"],[0.6666666666666666,\"#ed7953\"],[0.7777777777777778,\"#fb9f3a\"],[0.8888888888888888,\"#fdca26\"],[1.0,\"#f0f921\"]]}],\"heatmapgl\":[{\"type\":\"heatmapgl\",\"colorbar\":{\"outlinewidth\":0,\"ticks\":\"\"},\"colorscale\":[[0.0,\"#0d0887\"],[0.1111111111111111,\"#46039f\"],[0.2222222222222222,\"#7201a8\"],[0.3333333333333333,\"#9c179e\"],[0.4444444444444444,\"#bd3786\"],[0.5555555555555556,\"#d8576b\"],[0.6666666666666666,\"#ed7953\"],[0.7777777777777778,\"#fb9f3a\"],[0.8888888888888888,\"#fdca26\"],[1.0,\"#f0f921\"]]}],\"contourcarpet\":[{\"type\":\"contourcarpet\",\"colorbar\":{\"outlinewidth\":0,\"ticks\":\"\"}}],\"contour\":[{\"type\":\"contour\",\"colorbar\":{\"outlinewidth\":0,\"ticks\":\"\"},\"colorscale\":[[0.0,\"#0d0887\"],[0.1111111111111111,\"#46039f\"],[0.2222222222222222,\"#7201a8\"],[0.3333333333333333,\"#9c179e\"],[0.4444444444444444,\"#bd3786\"],[0.5555555555555556,\"#d8576b\"],[0.6666666666666666,\"#ed7953\"],[0.7777777777777778,\"#fb9f3a\"],[0.8888888888888888,\"#fdca26\"],[1.0,\"#f0f921\"]]}],\"surface\":[{\"type\":\"surface\",\"colorbar\":{\"outlinewidth\":0,\"ticks\":\"\"},\"colorscale\":[[0.0,\"#0d0887\"],[0.1111111111111111,\"#46039f\"],[0.2222222222222222,\"#7201a8\"],[0.3333333333333333,\"#9c179e\"],[0.4444444444444444,\"#bd3786\"],[0.5555555555555556,\"#d8576b\"],[0.6666666666666666,\"#ed7953\"],[0.7777777777777778,\"#fb9f3a\"],[0.8888888888888888,\"#fdca26\"],[1.0,\"#f0f921\"]]}],\"mesh3d\":[{\"type\":\"mesh3d\",\"colorbar\":{\"outlinewidth\":0,\"ticks\":\"\"}}],\"scatter\":[{\"fillpattern\":{\"fillmode\":\"overlay\",\"size\":10,\"solidity\":0.2},\"type\":\"scatter\"}],\"parcoords\":[{\"type\":\"parcoords\",\"line\":{\"colorbar\":{\"outlinewidth\":0,\"ticks\":\"\"}}}],\"scatterpolargl\":[{\"type\":\"scatterpolargl\",\"marker\":{\"colorbar\":{\"outlinewidth\":0,\"ticks\":\"\"}}}],\"bar\":[{\"error_x\":{\"color\":\"#2a3f5f\"},\"error_y\":{\"color\":\"#2a3f5f\"},\"marker\":{\"line\":{\"color\":\"#E5ECF6\",\"width\":0.5},\"pattern\":{\"fillmode\":\"overlay\",\"size\":10,\"solidity\":0.2}},\"type\":\"bar\"}],\"scattergeo\":[{\"type\":\"scattergeo\",\"marker\":{\"colorbar\":{\"outlinewidth\":0,\"ticks\":\"\"}}}],\"scatterpolar\":[{\"type\":\"scatterpolar\",\"marker\":{\"colorbar\":{\"outlinewidth\":0,\"ticks\":\"\"}}}],\"histogram\":[{\"marker\":{\"pattern\":{\"fillmode\":\"overlay\",\"size\":10,\"solidity\":0.2}},\"type\":\"histogram\"}],\"scattergl\":[{\"type\":\"scattergl\",\"marker\":{\"colorbar\":{\"outlinewidth\":0,\"ticks\":\"\"}}}],\"scatter3d\":[{\"type\":\"scatter3d\",\"line\":{\"colorbar\":{\"outlinewidth\":0,\"ticks\":\"\"}},\"marker\":{\"colorbar\":{\"outlinewidth\":0,\"ticks\":\"\"}}}],\"scattermapbox\":[{\"type\":\"scattermapbox\",\"marker\":{\"colorbar\":{\"outlinewidth\":0,\"ticks\":\"\"}}}],\"scatterternary\":[{\"type\":\"scatterternary\",\"marker\":{\"colorbar\":{\"outlinewidth\":0,\"ticks\":\"\"}}}],\"scattercarpet\":[{\"type\":\"scattercarpet\",\"marker\":{\"colorbar\":{\"outlinewidth\":0,\"ticks\":\"\"}}}],\"carpet\":[{\"aaxis\":{\"endlinecolor\":\"#2a3f5f\",\"gridcolor\":\"white\",\"linecolor\":\"white\",\"minorgridcolor\":\"white\",\"startlinecolor\":\"#2a3f5f\"},\"baxis\":{\"endlinecolor\":\"#2a3f5f\",\"gridcolor\":\"white\",\"linecolor\":\"white\",\"minorgridcolor\":\"white\",\"startlinecolor\":\"#2a3f5f\"},\"type\":\"carpet\"}],\"table\":[{\"cells\":{\"fill\":{\"color\":\"#EBF0F8\"},\"line\":{\"color\":\"white\"}},\"header\":{\"fill\":{\"color\":\"#C8D4E3\"},\"line\":{\"color\":\"white\"}},\"type\":\"table\"}],\"barpolar\":[{\"marker\":{\"line\":{\"color\":\"#E5ECF6\",\"width\":0.5},\"pattern\":{\"fillmode\":\"overlay\",\"size\":10,\"solidity\":0.2}},\"type\":\"barpolar\"}],\"pie\":[{\"automargin\":true,\"type\":\"pie\"}]},\"layout\":{\"autotypenumbers\":\"strict\",\"colorway\":[\"#636efa\",\"#EF553B\",\"#00cc96\",\"#ab63fa\",\"#FFA15A\",\"#19d3f3\",\"#FF6692\",\"#B6E880\",\"#FF97FF\",\"#FECB52\"],\"font\":{\"color\":\"#2a3f5f\"},\"hovermode\":\"closest\",\"hoverlabel\":{\"align\":\"left\"},\"paper_bgcolor\":\"white\",\"plot_bgcolor\":\"#E5ECF6\",\"polar\":{\"bgcolor\":\"#E5ECF6\",\"angularaxis\":{\"gridcolor\":\"white\",\"linecolor\":\"white\",\"ticks\":\"\"},\"radialaxis\":{\"gridcolor\":\"white\",\"linecolor\":\"white\",\"ticks\":\"\"}},\"ternary\":{\"bgcolor\":\"#E5ECF6\",\"aaxis\":{\"gridcolor\":\"white\",\"linecolor\":\"white\",\"ticks\":\"\"},\"baxis\":{\"gridcolor\":\"white\",\"linecolor\":\"white\",\"ticks\":\"\"},\"caxis\":{\"gridcolor\":\"white\",\"linecolor\":\"white\",\"ticks\":\"\"}},\"coloraxis\":{\"colorbar\":{\"outlinewidth\":0,\"ticks\":\"\"}},\"colorscale\":{\"sequential\":[[0.0,\"#0d0887\"],[0.1111111111111111,\"#46039f\"],[0.2222222222222222,\"#7201a8\"],[0.3333333333333333,\"#9c179e\"],[0.4444444444444444,\"#bd3786\"],[0.5555555555555556,\"#d8576b\"],[0.6666666666666666,\"#ed7953\"],[0.7777777777777778,\"#fb9f3a\"],[0.8888888888888888,\"#fdca26\"],[1.0,\"#f0f921\"]],\"sequentialminus\":[[0.0,\"#0d0887\"],[0.1111111111111111,\"#46039f\"],[0.2222222222222222,\"#7201a8\"],[0.3333333333333333,\"#9c179e\"],[0.4444444444444444,\"#bd3786\"],[0.5555555555555556,\"#d8576b\"],[0.6666666666666666,\"#ed7953\"],[0.7777777777777778,\"#fb9f3a\"],[0.8888888888888888,\"#fdca26\"],[1.0,\"#f0f921\"]],\"diverging\":[[0,\"#8e0152\"],[0.1,\"#c51b7d\"],[0.2,\"#de77ae\"],[0.3,\"#f1b6da\"],[0.4,\"#fde0ef\"],[0.5,\"#f7f7f7\"],[0.6,\"#e6f5d0\"],[0.7,\"#b8e186\"],[0.8,\"#7fbc41\"],[0.9,\"#4d9221\"],[1,\"#276419\"]]},\"xaxis\":{\"gridcolor\":\"white\",\"linecolor\":\"white\",\"ticks\":\"\",\"title\":{\"standoff\":15},\"zerolinecolor\":\"white\",\"automargin\":true,\"zerolinewidth\":2},\"yaxis\":{\"gridcolor\":\"white\",\"linecolor\":\"white\",\"ticks\":\"\",\"title\":{\"standoff\":15},\"zerolinecolor\":\"white\",\"automargin\":true,\"zerolinewidth\":2},\"scene\":{\"xaxis\":{\"backgroundcolor\":\"#E5ECF6\",\"gridcolor\":\"white\",\"linecolor\":\"white\",\"showbackground\":true,\"ticks\":\"\",\"zerolinecolor\":\"white\",\"gridwidth\":2},\"yaxis\":{\"backgroundcolor\":\"#E5ECF6\",\"gridcolor\":\"white\",\"linecolor\":\"white\",\"showbackground\":true,\"ticks\":\"\",\"zerolinecolor\":\"white\",\"gridwidth\":2},\"zaxis\":{\"backgroundcolor\":\"#E5ECF6\",\"gridcolor\":\"white\",\"linecolor\":\"white\",\"showbackground\":true,\"ticks\":\"\",\"zerolinecolor\":\"white\",\"gridwidth\":2}},\"shapedefaults\":{\"line\":{\"color\":\"#2a3f5f\"}},\"annotationdefaults\":{\"arrowcolor\":\"#2a3f5f\",\"arrowhead\":0,\"arrowwidth\":1},\"geo\":{\"bgcolor\":\"white\",\"landcolor\":\"#E5ECF6\",\"subunitcolor\":\"white\",\"showland\":true,\"showlakes\":true,\"lakecolor\":\"white\"},\"title\":{\"x\":0.05},\"mapbox\":{\"style\":\"light\"}}},\"legend\":{\"tracegroupgap\":0,\"title\":{\"text\":\"Region\"}},\"title\":{\"text\":\"\\ud83c\\udf0d TB Case Distribution by Region in 2013\",\"font\":{\"size\":24}},\"piecolorway\":[\"rgb(127, 60, 141)\",\"rgb(17, 165, 121)\",\"rgb(57, 105, 172)\",\"rgb(242, 183, 1)\",\"rgb(231, 63, 116)\",\"rgb(128, 186, 90)\",\"rgb(230, 131, 16)\",\"rgb(0, 134, 149)\",\"rgb(207, 28, 144)\",\"rgb(249, 123, 114)\",\"rgb(165, 170, 153)\"],\"font\":{\"size\":16,\"family\":\"Arial\"},\"margin\":{\"t\":70,\"b\":40,\"l\":40,\"r\":40},\"width\":600,\"height\":600,\"showlegend\":true,\"plot_bgcolor\":\"white\",\"paper_bgcolor\":\"white\"},                        {\"responsive\": true}                    ).then(function(){\n",
       "                            \n",
       "var gd = document.getElementById('b324b45b-1f53-438a-bfcd-4e069c3d0dbb');\n",
       "var x = new MutationObserver(function (mutations, observer) {{\n",
       "        var display = window.getComputedStyle(gd).display;\n",
       "        if (!display || display === 'none') {{\n",
       "            console.log([gd, 'removed!']);\n",
       "            Plotly.purge(gd);\n",
       "            observer.disconnect();\n",
       "        }}\n",
       "}});\n",
       "\n",
       "// Listen for the removal of the full notebook cells\n",
       "var notebookContainer = gd.closest('#notebook-container');\n",
       "if (notebookContainer) {{\n",
       "    x.observe(notebookContainer, {childList: true});\n",
       "}}\n",
       "\n",
       "// Listen for the clearing of the current output cell\n",
       "var outputEl = gd.closest('.output');\n",
       "if (outputEl) {{\n",
       "    x.observe(outputEl, {childList: true});\n",
       "}}\n",
       "\n",
       "                        })                };                });            </script>        </div>"
      ]
     },
     "metadata": {},
     "output_type": "display_data"
    }
   ],
   "source": [
    "\n",
    "# Group and prepare data\n",
    "region_dist = filter_data(year_slider.value, region_selector.value).groupby('Region')['Total_Cases'].sum().reset_index()\n",
    "\n",
    "fig3 = px.pie(\n",
    "    region_dist,\n",
    "    names='Region',\n",
    "    values='Total_Cases',\n",
    "    title=f\"🌍 TB Case Distribution by Region in {year_slider.value}\",\n",
    "    hole=0.5,  # Bigger donut hole\n",
    "    color_discrete_sequence=px.colors.qualitative.Bold  # Bold color palette\n",
    ")\n",
    "\n",
    "fig3.update_traces(\n",
    "    textinfo='percent+label',\n",
    "    pull=[0.05] * len(region_dist),\n",
    "    hovertemplate='<b>%{label}</b><br>Total Cases: %{value:,}<br>Share: %{percent}<extra></extra>'\n",
    ")\n",
    "\n",
    "fig3.update_layout(\n",
    "    title_font_size=24,\n",
    "    width=600,  # Increased width\n",
    "    height=600,  # Increased height\n",
    "    showlegend=True,\n",
    "    legend_title_text='Region',\n",
    "    font=dict(size=16, family='Arial'),\n",
    "    plot_bgcolor='white',\n",
    "    paper_bgcolor='white',\n",
    "    margin=dict(t=70, b=40, l=40, r=40)\n",
    ")\n",
    "\n",
    "fig3.show()\n"
   ]
  },
  {
   "cell_type": "code",
   "execution_count": 47,
   "id": "2f7cf6dc-9e04-4355-ba0a-375bf6dd956f",
   "metadata": {},
   "outputs": [
    {
     "data": {
      "application/vnd.plotly.v1+json": {
       "config": {
        "plotlyServerURL": "https://plot.ly"
       },
       "data": [
        {
         "line": {
          "color": "blue"
         },
         "mode": "lines+markers",
         "name": "Historical",
         "type": "scatter",
         "visible": true,
         "x": [
          1990,
          1991,
          1992,
          1993,
          1994,
          1995,
          1996,
          1997,
          1998,
          1999,
          2000,
          2001,
          2002,
          2003,
          2004,
          2005,
          2006,
          2007,
          2008,
          2009,
          2010,
          2011,
          2012,
          2013
         ],
         "y": [
          8026081.9,
          8026955.2,
          8248443.8,
          8374464.37,
          8422589.6,
          8658242.72,
          8802723.48,
          8813679.3,
          9079435.2,
          9111069.1,
          9337727.2,
          9408198.2,
          9406696.4,
          9456783.73,
          9505773.66,
          9547373.040000001,
          9439578.9,
          9341132.14,
          9320404.36,
          9325217.98,
          9192961.17,
          9111197.35,
          9083910.16,
          8963725.27
         ]
        },
        {
         "line": {
          "color": "red",
          "dash": "dash"
         },
         "marker": {
          "size": 8,
          "symbol": "circle"
         },
         "mode": "markers+lines",
         "name": "Predicted",
         "type": "scatter",
         "visible": true,
         "x": [
          2014,
          2015,
          2020
         ],
         "y": [
          9616358.41286233,
          9665652.538457975,
          9912123.16643624
         ]
        }
       ],
       "layout": {
        "autosize": true,
        "legend": {
         "title": {
          "text": "Legend"
         }
        },
        "template": {
         "data": {
          "bar": [
           {
            "error_x": {
             "color": "#2a3f5f"
            },
            "error_y": {
             "color": "#2a3f5f"
            },
            "marker": {
             "line": {
              "color": "white",
              "width": 0.5
             },
             "pattern": {
              "fillmode": "overlay",
              "size": 10,
              "solidity": 0.2
             }
            },
            "type": "bar"
           }
          ],
          "barpolar": [
           {
            "marker": {
             "line": {
              "color": "white",
              "width": 0.5
             },
             "pattern": {
              "fillmode": "overlay",
              "size": 10,
              "solidity": 0.2
             }
            },
            "type": "barpolar"
           }
          ],
          "carpet": [
           {
            "aaxis": {
             "endlinecolor": "#2a3f5f",
             "gridcolor": "#C8D4E3",
             "linecolor": "#C8D4E3",
             "minorgridcolor": "#C8D4E3",
             "startlinecolor": "#2a3f5f"
            },
            "baxis": {
             "endlinecolor": "#2a3f5f",
             "gridcolor": "#C8D4E3",
             "linecolor": "#C8D4E3",
             "minorgridcolor": "#C8D4E3",
             "startlinecolor": "#2a3f5f"
            },
            "type": "carpet"
           }
          ],
          "choropleth": [
           {
            "colorbar": {
             "outlinewidth": 0,
             "ticks": ""
            },
            "type": "choropleth"
           }
          ],
          "contour": [
           {
            "colorbar": {
             "outlinewidth": 0,
             "ticks": ""
            },
            "colorscale": [
             [
              0,
              "#0d0887"
             ],
             [
              0.1111111111111111,
              "#46039f"
             ],
             [
              0.2222222222222222,
              "#7201a8"
             ],
             [
              0.3333333333333333,
              "#9c179e"
             ],
             [
              0.4444444444444444,
              "#bd3786"
             ],
             [
              0.5555555555555556,
              "#d8576b"
             ],
             [
              0.6666666666666666,
              "#ed7953"
             ],
             [
              0.7777777777777778,
              "#fb9f3a"
             ],
             [
              0.8888888888888888,
              "#fdca26"
             ],
             [
              1,
              "#f0f921"
             ]
            ],
            "type": "contour"
           }
          ],
          "contourcarpet": [
           {
            "colorbar": {
             "outlinewidth": 0,
             "ticks": ""
            },
            "type": "contourcarpet"
           }
          ],
          "heatmap": [
           {
            "colorbar": {
             "outlinewidth": 0,
             "ticks": ""
            },
            "colorscale": [
             [
              0,
              "#0d0887"
             ],
             [
              0.1111111111111111,
              "#46039f"
             ],
             [
              0.2222222222222222,
              "#7201a8"
             ],
             [
              0.3333333333333333,
              "#9c179e"
             ],
             [
              0.4444444444444444,
              "#bd3786"
             ],
             [
              0.5555555555555556,
              "#d8576b"
             ],
             [
              0.6666666666666666,
              "#ed7953"
             ],
             [
              0.7777777777777778,
              "#fb9f3a"
             ],
             [
              0.8888888888888888,
              "#fdca26"
             ],
             [
              1,
              "#f0f921"
             ]
            ],
            "type": "heatmap"
           }
          ],
          "heatmapgl": [
           {
            "colorbar": {
             "outlinewidth": 0,
             "ticks": ""
            },
            "colorscale": [
             [
              0,
              "#0d0887"
             ],
             [
              0.1111111111111111,
              "#46039f"
             ],
             [
              0.2222222222222222,
              "#7201a8"
             ],
             [
              0.3333333333333333,
              "#9c179e"
             ],
             [
              0.4444444444444444,
              "#bd3786"
             ],
             [
              0.5555555555555556,
              "#d8576b"
             ],
             [
              0.6666666666666666,
              "#ed7953"
             ],
             [
              0.7777777777777778,
              "#fb9f3a"
             ],
             [
              0.8888888888888888,
              "#fdca26"
             ],
             [
              1,
              "#f0f921"
             ]
            ],
            "type": "heatmapgl"
           }
          ],
          "histogram": [
           {
            "marker": {
             "pattern": {
              "fillmode": "overlay",
              "size": 10,
              "solidity": 0.2
             }
            },
            "type": "histogram"
           }
          ],
          "histogram2d": [
           {
            "colorbar": {
             "outlinewidth": 0,
             "ticks": ""
            },
            "colorscale": [
             [
              0,
              "#0d0887"
             ],
             [
              0.1111111111111111,
              "#46039f"
             ],
             [
              0.2222222222222222,
              "#7201a8"
             ],
             [
              0.3333333333333333,
              "#9c179e"
             ],
             [
              0.4444444444444444,
              "#bd3786"
             ],
             [
              0.5555555555555556,
              "#d8576b"
             ],
             [
              0.6666666666666666,
              "#ed7953"
             ],
             [
              0.7777777777777778,
              "#fb9f3a"
             ],
             [
              0.8888888888888888,
              "#fdca26"
             ],
             [
              1,
              "#f0f921"
             ]
            ],
            "type": "histogram2d"
           }
          ],
          "histogram2dcontour": [
           {
            "colorbar": {
             "outlinewidth": 0,
             "ticks": ""
            },
            "colorscale": [
             [
              0,
              "#0d0887"
             ],
             [
              0.1111111111111111,
              "#46039f"
             ],
             [
              0.2222222222222222,
              "#7201a8"
             ],
             [
              0.3333333333333333,
              "#9c179e"
             ],
             [
              0.4444444444444444,
              "#bd3786"
             ],
             [
              0.5555555555555556,
              "#d8576b"
             ],
             [
              0.6666666666666666,
              "#ed7953"
             ],
             [
              0.7777777777777778,
              "#fb9f3a"
             ],
             [
              0.8888888888888888,
              "#fdca26"
             ],
             [
              1,
              "#f0f921"
             ]
            ],
            "type": "histogram2dcontour"
           }
          ],
          "mesh3d": [
           {
            "colorbar": {
             "outlinewidth": 0,
             "ticks": ""
            },
            "type": "mesh3d"
           }
          ],
          "parcoords": [
           {
            "line": {
             "colorbar": {
              "outlinewidth": 0,
              "ticks": ""
             }
            },
            "type": "parcoords"
           }
          ],
          "pie": [
           {
            "automargin": true,
            "type": "pie"
           }
          ],
          "scatter": [
           {
            "fillpattern": {
             "fillmode": "overlay",
             "size": 10,
             "solidity": 0.2
            },
            "type": "scatter"
           }
          ],
          "scatter3d": [
           {
            "line": {
             "colorbar": {
              "outlinewidth": 0,
              "ticks": ""
             }
            },
            "marker": {
             "colorbar": {
              "outlinewidth": 0,
              "ticks": ""
             }
            },
            "type": "scatter3d"
           }
          ],
          "scattercarpet": [
           {
            "marker": {
             "colorbar": {
              "outlinewidth": 0,
              "ticks": ""
             }
            },
            "type": "scattercarpet"
           }
          ],
          "scattergeo": [
           {
            "marker": {
             "colorbar": {
              "outlinewidth": 0,
              "ticks": ""
             }
            },
            "type": "scattergeo"
           }
          ],
          "scattergl": [
           {
            "marker": {
             "colorbar": {
              "outlinewidth": 0,
              "ticks": ""
             }
            },
            "type": "scattergl"
           }
          ],
          "scattermapbox": [
           {
            "marker": {
             "colorbar": {
              "outlinewidth": 0,
              "ticks": ""
             }
            },
            "type": "scattermapbox"
           }
          ],
          "scatterpolar": [
           {
            "marker": {
             "colorbar": {
              "outlinewidth": 0,
              "ticks": ""
             }
            },
            "type": "scatterpolar"
           }
          ],
          "scatterpolargl": [
           {
            "marker": {
             "colorbar": {
              "outlinewidth": 0,
              "ticks": ""
             }
            },
            "type": "scatterpolargl"
           }
          ],
          "scatterternary": [
           {
            "marker": {
             "colorbar": {
              "outlinewidth": 0,
              "ticks": ""
             }
            },
            "type": "scatterternary"
           }
          ],
          "surface": [
           {
            "colorbar": {
             "outlinewidth": 0,
             "ticks": ""
            },
            "colorscale": [
             [
              0,
              "#0d0887"
             ],
             [
              0.1111111111111111,
              "#46039f"
             ],
             [
              0.2222222222222222,
              "#7201a8"
             ],
             [
              0.3333333333333333,
              "#9c179e"
             ],
             [
              0.4444444444444444,
              "#bd3786"
             ],
             [
              0.5555555555555556,
              "#d8576b"
             ],
             [
              0.6666666666666666,
              "#ed7953"
             ],
             [
              0.7777777777777778,
              "#fb9f3a"
             ],
             [
              0.8888888888888888,
              "#fdca26"
             ],
             [
              1,
              "#f0f921"
             ]
            ],
            "type": "surface"
           }
          ],
          "table": [
           {
            "cells": {
             "fill": {
              "color": "#EBF0F8"
             },
             "line": {
              "color": "white"
             }
            },
            "header": {
             "fill": {
              "color": "#C8D4E3"
             },
             "line": {
              "color": "white"
             }
            },
            "type": "table"
           }
          ]
         },
         "layout": {
          "annotationdefaults": {
           "arrowcolor": "#2a3f5f",
           "arrowhead": 0,
           "arrowwidth": 1
          },
          "autotypenumbers": "strict",
          "coloraxis": {
           "colorbar": {
            "outlinewidth": 0,
            "ticks": ""
           }
          },
          "colorscale": {
           "diverging": [
            [
             0,
             "#8e0152"
            ],
            [
             0.1,
             "#c51b7d"
            ],
            [
             0.2,
             "#de77ae"
            ],
            [
             0.3,
             "#f1b6da"
            ],
            [
             0.4,
             "#fde0ef"
            ],
            [
             0.5,
             "#f7f7f7"
            ],
            [
             0.6,
             "#e6f5d0"
            ],
            [
             0.7,
             "#b8e186"
            ],
            [
             0.8,
             "#7fbc41"
            ],
            [
             0.9,
             "#4d9221"
            ],
            [
             1,
             "#276419"
            ]
           ],
           "sequential": [
            [
             0,
             "#0d0887"
            ],
            [
             0.1111111111111111,
             "#46039f"
            ],
            [
             0.2222222222222222,
             "#7201a8"
            ],
            [
             0.3333333333333333,
             "#9c179e"
            ],
            [
             0.4444444444444444,
             "#bd3786"
            ],
            [
             0.5555555555555556,
             "#d8576b"
            ],
            [
             0.6666666666666666,
             "#ed7953"
            ],
            [
             0.7777777777777778,
             "#fb9f3a"
            ],
            [
             0.8888888888888888,
             "#fdca26"
            ],
            [
             1,
             "#f0f921"
            ]
           ],
           "sequentialminus": [
            [
             0,
             "#0d0887"
            ],
            [
             0.1111111111111111,
             "#46039f"
            ],
            [
             0.2222222222222222,
             "#7201a8"
            ],
            [
             0.3333333333333333,
             "#9c179e"
            ],
            [
             0.4444444444444444,
             "#bd3786"
            ],
            [
             0.5555555555555556,
             "#d8576b"
            ],
            [
             0.6666666666666666,
             "#ed7953"
            ],
            [
             0.7777777777777778,
             "#fb9f3a"
            ],
            [
             0.8888888888888888,
             "#fdca26"
            ],
            [
             1,
             "#f0f921"
            ]
           ]
          },
          "colorway": [
           "#636efa",
           "#EF553B",
           "#00cc96",
           "#ab63fa",
           "#FFA15A",
           "#19d3f3",
           "#FF6692",
           "#B6E880",
           "#FF97FF",
           "#FECB52"
          ],
          "font": {
           "color": "#2a3f5f"
          },
          "geo": {
           "bgcolor": "white",
           "lakecolor": "white",
           "landcolor": "white",
           "showlakes": true,
           "showland": true,
           "subunitcolor": "#C8D4E3"
          },
          "hoverlabel": {
           "align": "left"
          },
          "hovermode": "closest",
          "mapbox": {
           "style": "light"
          },
          "paper_bgcolor": "white",
          "plot_bgcolor": "white",
          "polar": {
           "angularaxis": {
            "gridcolor": "#EBF0F8",
            "linecolor": "#EBF0F8",
            "ticks": ""
           },
           "bgcolor": "white",
           "radialaxis": {
            "gridcolor": "#EBF0F8",
            "linecolor": "#EBF0F8",
            "ticks": ""
           }
          },
          "scene": {
           "xaxis": {
            "backgroundcolor": "white",
            "gridcolor": "#DFE8F3",
            "gridwidth": 2,
            "linecolor": "#EBF0F8",
            "showbackground": true,
            "ticks": "",
            "zerolinecolor": "#EBF0F8"
           },
           "yaxis": {
            "backgroundcolor": "white",
            "gridcolor": "#DFE8F3",
            "gridwidth": 2,
            "linecolor": "#EBF0F8",
            "showbackground": true,
            "ticks": "",
            "zerolinecolor": "#EBF0F8"
           },
           "zaxis": {
            "backgroundcolor": "white",
            "gridcolor": "#DFE8F3",
            "gridwidth": 2,
            "linecolor": "#EBF0F8",
            "showbackground": true,
            "ticks": "",
            "zerolinecolor": "#EBF0F8"
           }
          },
          "shapedefaults": {
           "line": {
            "color": "#2a3f5f"
           }
          },
          "ternary": {
           "aaxis": {
            "gridcolor": "#DFE8F3",
            "linecolor": "#A2B1C6",
            "ticks": ""
           },
           "baxis": {
            "gridcolor": "#DFE8F3",
            "linecolor": "#A2B1C6",
            "ticks": ""
           },
           "bgcolor": "white",
           "caxis": {
            "gridcolor": "#DFE8F3",
            "linecolor": "#A2B1C6",
            "ticks": ""
           }
          },
          "title": {
           "x": 0.05
          },
          "xaxis": {
           "automargin": true,
           "gridcolor": "#EBF0F8",
           "linecolor": "#EBF0F8",
           "ticks": "",
           "title": {
            "standoff": 15
           },
           "zerolinecolor": "#EBF0F8",
           "zerolinewidth": 2
          },
          "yaxis": {
           "automargin": true,
           "gridcolor": "#EBF0F8",
           "linecolor": "#EBF0F8",
           "ticks": "",
           "title": {
            "standoff": 15
           },
           "zerolinecolor": "#EBF0F8",
           "zerolinewidth": 2
          }
         }
        },
        "title": {
         "text": "TB Cases Trend with Linear Regression Prediction"
        },
        "xaxis": {
         "autorange": true,
         "range": [
          1988.172925213001,
          2021.8744083307038
         ],
         "title": {
          "text": "Year"
         },
         "type": "linear"
        },
        "yaxis": {
         "autorange": true,
         "range": [
          7869168.189415582,
          10084420.574136777
         ],
         "title": {
          "text": "Total Cases"
         },
         "type": "linear"
        }
       }
      },
      "image/png": "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",
      "text/html": [
       "<div>                            <div id=\"c3777102-ea53-4331-af67-a643fad02398\" class=\"plotly-graph-div\" style=\"height:525px; width:100%;\"></div>            <script type=\"text/javascript\">                require([\"plotly\"], function(Plotly) {                    window.PLOTLYENV=window.PLOTLYENV || {};                                    if (document.getElementById(\"c3777102-ea53-4331-af67-a643fad02398\")) {                    Plotly.newPlot(                        \"c3777102-ea53-4331-af67-a643fad02398\",                        [{\"line\":{\"color\":\"blue\"},\"mode\":\"lines+markers\",\"name\":\"Historical\",\"x\":[1990,1991,1992,1993,1994,1995,1996,1997,1998,1999,2000,2001,2002,2003,2004,2005,2006,2007,2008,2009,2010,2011,2012,2013],\"y\":[8026081.9,8026955.2,8248443.8,8374464.37,8422589.6,8658242.72,8802723.48,8813679.3,9079435.2,9111069.1,9337727.2,9408198.2,9406696.4,9456783.73,9505773.66,9547373.040000001,9439578.9,9341132.14,9320404.36,9325217.98,9192961.17,9111197.35,9083910.16,8963725.27],\"type\":\"scatter\"},{\"line\":{\"color\":\"red\",\"dash\":\"dash\"},\"marker\":{\"size\":8,\"symbol\":\"circle\"},\"mode\":\"markers+lines\",\"name\":\"Predicted\",\"x\":[2014,2015,2020],\"y\":[9616358.41286233,9665652.538457975,9912123.16643624],\"type\":\"scatter\"}],                        {\"template\":{\"data\":{\"barpolar\":[{\"marker\":{\"line\":{\"color\":\"white\",\"width\":0.5},\"pattern\":{\"fillmode\":\"overlay\",\"size\":10,\"solidity\":0.2}},\"type\":\"barpolar\"}],\"bar\":[{\"error_x\":{\"color\":\"#2a3f5f\"},\"error_y\":{\"color\":\"#2a3f5f\"},\"marker\":{\"line\":{\"color\":\"white\",\"width\":0.5},\"pattern\":{\"fillmode\":\"overlay\",\"size\":10,\"solidity\":0.2}},\"type\":\"bar\"}],\"carpet\":[{\"aaxis\":{\"endlinecolor\":\"#2a3f5f\",\"gridcolor\":\"#C8D4E3\",\"linecolor\":\"#C8D4E3\",\"minorgridcolor\":\"#C8D4E3\",\"startlinecolor\":\"#2a3f5f\"},\"baxis\":{\"endlinecolor\":\"#2a3f5f\",\"gridcolor\":\"#C8D4E3\",\"linecolor\":\"#C8D4E3\",\"minorgridcolor\":\"#C8D4E3\",\"startlinecolor\":\"#2a3f5f\"},\"type\":\"carpet\"}],\"choropleth\":[{\"colorbar\":{\"outlinewidth\":0,\"ticks\":\"\"},\"type\":\"choropleth\"}],\"contourcarpet\":[{\"colorbar\":{\"outlinewidth\":0,\"ticks\":\"\"},\"type\":\"contourcarpet\"}],\"contour\":[{\"colorbar\":{\"outlinewidth\":0,\"ticks\":\"\"},\"colorscale\":[[0.0,\"#0d0887\"],[0.1111111111111111,\"#46039f\"],[0.2222222222222222,\"#7201a8\"],[0.3333333333333333,\"#9c179e\"],[0.4444444444444444,\"#bd3786\"],[0.5555555555555556,\"#d8576b\"],[0.6666666666666666,\"#ed7953\"],[0.7777777777777778,\"#fb9f3a\"],[0.8888888888888888,\"#fdca26\"],[1.0,\"#f0f921\"]],\"type\":\"contour\"}],\"heatmapgl\":[{\"colorbar\":{\"outlinewidth\":0,\"ticks\":\"\"},\"colorscale\":[[0.0,\"#0d0887\"],[0.1111111111111111,\"#46039f\"],[0.2222222222222222,\"#7201a8\"],[0.3333333333333333,\"#9c179e\"],[0.4444444444444444,\"#bd3786\"],[0.5555555555555556,\"#d8576b\"],[0.6666666666666666,\"#ed7953\"],[0.7777777777777778,\"#fb9f3a\"],[0.8888888888888888,\"#fdca26\"],[1.0,\"#f0f921\"]],\"type\":\"heatmapgl\"}],\"heatmap\":[{\"colorbar\":{\"outlinewidth\":0,\"ticks\":\"\"},\"colorscale\":[[0.0,\"#0d0887\"],[0.1111111111111111,\"#46039f\"],[0.2222222222222222,\"#7201a8\"],[0.3333333333333333,\"#9c179e\"],[0.4444444444444444,\"#bd3786\"],[0.5555555555555556,\"#d8576b\"],[0.6666666666666666,\"#ed7953\"],[0.7777777777777778,\"#fb9f3a\"],[0.8888888888888888,\"#fdca26\"],[1.0,\"#f0f921\"]],\"type\":\"heatmap\"}],\"histogram2dcontour\":[{\"colorbar\":{\"outlinewidth\":0,\"ticks\":\"\"},\"colorscale\":[[0.0,\"#0d0887\"],[0.1111111111111111,\"#46039f\"],[0.2222222222222222,\"#7201a8\"],[0.3333333333333333,\"#9c179e\"],[0.4444444444444444,\"#bd3786\"],[0.5555555555555556,\"#d8576b\"],[0.6666666666666666,\"#ed7953\"],[0.7777777777777778,\"#fb9f3a\"],[0.8888888888888888,\"#fdca26\"],[1.0,\"#f0f921\"]],\"type\":\"histogram2dcontour\"}],\"histogram2d\":[{\"colorbar\":{\"outlinewidth\":0,\"ticks\":\"\"},\"colorscale\":[[0.0,\"#0d0887\"],[0.1111111111111111,\"#46039f\"],[0.2222222222222222,\"#7201a8\"],[0.3333333333333333,\"#9c179e\"],[0.4444444444444444,\"#bd3786\"],[0.5555555555555556,\"#d8576b\"],[0.6666666666666666,\"#ed7953\"],[0.7777777777777778,\"#fb9f3a\"],[0.8888888888888888,\"#fdca26\"],[1.0,\"#f0f921\"]],\"type\":\"histogram2d\"}],\"histogram\":[{\"marker\":{\"pattern\":{\"fillmode\":\"overlay\",\"size\":10,\"solidity\":0.2}},\"type\":\"histogram\"}],\"mesh3d\":[{\"colorbar\":{\"outlinewidth\":0,\"ticks\":\"\"},\"type\":\"mesh3d\"}],\"parcoords\":[{\"line\":{\"colorbar\":{\"outlinewidth\":0,\"ticks\":\"\"}},\"type\":\"parcoords\"}],\"pie\":[{\"automargin\":true,\"type\":\"pie\"}],\"scatter3d\":[{\"line\":{\"colorbar\":{\"outlinewidth\":0,\"ticks\":\"\"}},\"marker\":{\"colorbar\":{\"outlinewidth\":0,\"ticks\":\"\"}},\"type\":\"scatter3d\"}],\"scattercarpet\":[{\"marker\":{\"colorbar\":{\"outlinewidth\":0,\"ticks\":\"\"}},\"type\":\"scattercarpet\"}],\"scattergeo\":[{\"marker\":{\"colorbar\":{\"outlinewidth\":0,\"ticks\":\"\"}},\"type\":\"scattergeo\"}],\"scattergl\":[{\"marker\":{\"colorbar\":{\"outlinewidth\":0,\"ticks\":\"\"}},\"type\":\"scattergl\"}],\"scattermapbox\":[{\"marker\":{\"colorbar\":{\"outlinewidth\":0,\"ticks\":\"\"}},\"type\":\"scattermapbox\"}],\"scatterpolargl\":[{\"marker\":{\"colorbar\":{\"outlinewidth\":0,\"ticks\":\"\"}},\"type\":\"scatterpolargl\"}],\"scatterpolar\":[{\"marker\":{\"colorbar\":{\"outlinewidth\":0,\"ticks\":\"\"}},\"type\":\"scatterpolar\"}],\"scatter\":[{\"fillpattern\":{\"fillmode\":\"overlay\",\"size\":10,\"solidity\":0.2},\"type\":\"scatter\"}],\"scatterternary\":[{\"marker\":{\"colorbar\":{\"outlinewidth\":0,\"ticks\":\"\"}},\"type\":\"scatterternary\"}],\"surface\":[{\"colorbar\":{\"outlinewidth\":0,\"ticks\":\"\"},\"colorscale\":[[0.0,\"#0d0887\"],[0.1111111111111111,\"#46039f\"],[0.2222222222222222,\"#7201a8\"],[0.3333333333333333,\"#9c179e\"],[0.4444444444444444,\"#bd3786\"],[0.5555555555555556,\"#d8576b\"],[0.6666666666666666,\"#ed7953\"],[0.7777777777777778,\"#fb9f3a\"],[0.8888888888888888,\"#fdca26\"],[1.0,\"#f0f921\"]],\"type\":\"surface\"}],\"table\":[{\"cells\":{\"fill\":{\"color\":\"#EBF0F8\"},\"line\":{\"color\":\"white\"}},\"header\":{\"fill\":{\"color\":\"#C8D4E3\"},\"line\":{\"color\":\"white\"}},\"type\":\"table\"}]},\"layout\":{\"annotationdefaults\":{\"arrowcolor\":\"#2a3f5f\",\"arrowhead\":0,\"arrowwidth\":1},\"autotypenumbers\":\"strict\",\"coloraxis\":{\"colorbar\":{\"outlinewidth\":0,\"ticks\":\"\"}},\"colorscale\":{\"diverging\":[[0,\"#8e0152\"],[0.1,\"#c51b7d\"],[0.2,\"#de77ae\"],[0.3,\"#f1b6da\"],[0.4,\"#fde0ef\"],[0.5,\"#f7f7f7\"],[0.6,\"#e6f5d0\"],[0.7,\"#b8e186\"],[0.8,\"#7fbc41\"],[0.9,\"#4d9221\"],[1,\"#276419\"]],\"sequential\":[[0.0,\"#0d0887\"],[0.1111111111111111,\"#46039f\"],[0.2222222222222222,\"#7201a8\"],[0.3333333333333333,\"#9c179e\"],[0.4444444444444444,\"#bd3786\"],[0.5555555555555556,\"#d8576b\"],[0.6666666666666666,\"#ed7953\"],[0.7777777777777778,\"#fb9f3a\"],[0.8888888888888888,\"#fdca26\"],[1.0,\"#f0f921\"]],\"sequentialminus\":[[0.0,\"#0d0887\"],[0.1111111111111111,\"#46039f\"],[0.2222222222222222,\"#7201a8\"],[0.3333333333333333,\"#9c179e\"],[0.4444444444444444,\"#bd3786\"],[0.5555555555555556,\"#d8576b\"],[0.6666666666666666,\"#ed7953\"],[0.7777777777777778,\"#fb9f3a\"],[0.8888888888888888,\"#fdca26\"],[1.0,\"#f0f921\"]]},\"colorway\":[\"#636efa\",\"#EF553B\",\"#00cc96\",\"#ab63fa\",\"#FFA15A\",\"#19d3f3\",\"#FF6692\",\"#B6E880\",\"#FF97FF\",\"#FECB52\"],\"font\":{\"color\":\"#2a3f5f\"},\"geo\":{\"bgcolor\":\"white\",\"lakecolor\":\"white\",\"landcolor\":\"white\",\"showlakes\":true,\"showland\":true,\"subunitcolor\":\"#C8D4E3\"},\"hoverlabel\":{\"align\":\"left\"},\"hovermode\":\"closest\",\"mapbox\":{\"style\":\"light\"},\"paper_bgcolor\":\"white\",\"plot_bgcolor\":\"white\",\"polar\":{\"angularaxis\":{\"gridcolor\":\"#EBF0F8\",\"linecolor\":\"#EBF0F8\",\"ticks\":\"\"},\"bgcolor\":\"white\",\"radialaxis\":{\"gridcolor\":\"#EBF0F8\",\"linecolor\":\"#EBF0F8\",\"ticks\":\"\"}},\"scene\":{\"xaxis\":{\"backgroundcolor\":\"white\",\"gridcolor\":\"#DFE8F3\",\"gridwidth\":2,\"linecolor\":\"#EBF0F8\",\"showbackground\":true,\"ticks\":\"\",\"zerolinecolor\":\"#EBF0F8\"},\"yaxis\":{\"backgroundcolor\":\"white\",\"gridcolor\":\"#DFE8F3\",\"gridwidth\":2,\"linecolor\":\"#EBF0F8\",\"showbackground\":true,\"ticks\":\"\",\"zerolinecolor\":\"#EBF0F8\"},\"zaxis\":{\"backgroundcolor\":\"white\",\"gridcolor\":\"#DFE8F3\",\"gridwidth\":2,\"linecolor\":\"#EBF0F8\",\"showbackground\":true,\"ticks\":\"\",\"zerolinecolor\":\"#EBF0F8\"}},\"shapedefaults\":{\"line\":{\"color\":\"#2a3f5f\"}},\"ternary\":{\"aaxis\":{\"gridcolor\":\"#DFE8F3\",\"linecolor\":\"#A2B1C6\",\"ticks\":\"\"},\"baxis\":{\"gridcolor\":\"#DFE8F3\",\"linecolor\":\"#A2B1C6\",\"ticks\":\"\"},\"bgcolor\":\"white\",\"caxis\":{\"gridcolor\":\"#DFE8F3\",\"linecolor\":\"#A2B1C6\",\"ticks\":\"\"}},\"title\":{\"x\":0.05},\"xaxis\":{\"automargin\":true,\"gridcolor\":\"#EBF0F8\",\"linecolor\":\"#EBF0F8\",\"ticks\":\"\",\"title\":{\"standoff\":15},\"zerolinecolor\":\"#EBF0F8\",\"zerolinewidth\":2},\"yaxis\":{\"automargin\":true,\"gridcolor\":\"#EBF0F8\",\"linecolor\":\"#EBF0F8\",\"ticks\":\"\",\"title\":{\"standoff\":15},\"zerolinecolor\":\"#EBF0F8\",\"zerolinewidth\":2}}},\"title\":{\"text\":\"TB Cases Trend with Linear Regression Prediction\"},\"xaxis\":{\"title\":{\"text\":\"Year\"}},\"yaxis\":{\"title\":{\"text\":\"Total Cases\"}},\"legend\":{\"title\":{\"text\":\"Legend\"}}},                        {\"responsive\": true}                    ).then(function(){\n",
       "                            \n",
       "var gd = document.getElementById('c3777102-ea53-4331-af67-a643fad02398');\n",
       "var x = new MutationObserver(function (mutations, observer) {{\n",
       "        var display = window.getComputedStyle(gd).display;\n",
       "        if (!display || display === 'none') {{\n",
       "            console.log([gd, 'removed!']);\n",
       "            Plotly.purge(gd);\n",
       "            observer.disconnect();\n",
       "        }}\n",
       "}});\n",
       "\n",
       "// Listen for the removal of the full notebook cells\n",
       "var notebookContainer = gd.closest('#notebook-container');\n",
       "if (notebookContainer) {{\n",
       "    x.observe(notebookContainer, {childList: true});\n",
       "}}\n",
       "\n",
       "// Listen for the clearing of the current output cell\n",
       "var outputEl = gd.closest('.output');\n",
       "if (outputEl) {{\n",
       "    x.observe(outputEl, {childList: true});\n",
       "}}\n",
       "\n",
       "                        })                };                });            </script>        </div>"
      ]
     },
     "metadata": {},
     "output_type": "display_data"
    }
   ],
   "source": [
    "\n",
    "historical = df.groupby('Year')['Total_Cases'].sum().reset_index()\n",
    "X = historical['Year'].values.reshape(-1, 1)\n",
    "y = historical['Total_Cases'].values\n",
    "\n",
    "# Train linear regression model\n",
    "model = LinearRegression().fit(X, y)\n",
    "\n",
    "# Predict future years\n",
    "future_years = np.array([[2014], [2015], [2020]])\n",
    "predictions = model.predict(future_years)\n",
    "\n",
    "# Combine historical and prediction for plotting\n",
    "future_df = pd.DataFrame({\n",
    "    'Year': future_years.flatten(),\n",
    "    'Total_Cases': predictions\n",
    "})\n",
    "\n",
    "# Plot with Plotly\n",
    "fig = go.Figure()\n",
    "\n",
    "# Historical trend\n",
    "fig.add_trace(go.Scatter(\n",
    "    x=historical['Year'], y=historical['Total_Cases'],\n",
    "    mode='lines+markers',\n",
    "    name='Historical',\n",
    "    line=dict(color='blue')\n",
    "))\n",
    "\n",
    "# Predictions\n",
    "fig.add_trace(go.Scatter(\n",
    "    x=future_df['Year'], y=future_df['Total_Cases'],\n",
    "    mode='markers+lines',\n",
    "    name='Predicted',\n",
    "    line=dict(dash='dash', color='red'),\n",
    "    marker=dict(symbol='circle', size=8)\n",
    "))\n",
    "\n",
    "fig.update_layout(\n",
    "    title=\"TB Cases Trend with Linear Regression Prediction\",\n",
    "    xaxis_title=\"Year\",\n",
    "    yaxis_title=\"Total Cases\",\n",
    "    legend_title=\"Legend\",\n",
    "    template=\"plotly_white\"\n",
    ")\n",
    "\n",
    "fig.show()\n"
   ]
  },
  {
   "cell_type": "markdown",
   "id": "2477ed2e-cd92-46cb-b288-34d4b5848d3c",
   "metadata": {},
   "source": [
    "## 🧾 TB Burden Dashboard Summary\n",
    "\n",
    "**Past (1990–2013)**:  \n",
    "Tuberculosis cases have fluctuated with some regional peaks. The total case count peaked in early 2000s.\n",
    "\n",
    "**Present (2013)**:  \n",
    "In 2013, the highest TB burden was observed in the African and South-East Asian regions.\n",
    "\n",
    "**Future**:  \n",
    "Basic linear regression shows a potential continued decline if global interventions persist.\n",
    "\n",
    "_Recommendation_: Invest more in high-burden regions and maintain consistent health surveillance.\n"
   ]
  },
  {
   "cell_type": "code",
   "execution_count": 88,
   "id": "3bcb6c3b-04cb-4224-9971-4aa1d95a4130",
   "metadata": {},
   "outputs": [
    {
     "data": {
      "application/vnd.plotly.v1+json": {
       "config": {
        "plotlyServerURL": "https://plot.ly"
       },
       "data": [
        {
         "alignmentgroup": "True",
         "customdata": [
          [
           "Historical Avg TB Cases (1990–2013)",
           286.5613129770992
          ],
          [
           "Historical Avg TB Cases (1990–2013)",
           1682.9501698301701
          ],
          [
           "Historical Avg TB Cases (1990–2013)",
           448.0859605911331
          ],
          [
           "Historical Avg TB Cases (1990–2013)",
           2288.3593513513515
          ],
          [
           "Historical Avg TB Cases (1990–2013)",
           2340.31635359116
          ],
          [
           "Historical Avg TB Cases (1990–2013)",
           6908.47672552167
          ],
          [
           "Historical Avg TB Cases (1990–2013)",
           1671.3362628336756
          ],
          [
           "Historical Avg TB Cases (1990–2013)",
           1497.628705882353
          ],
          [
           "TB Cases in 2024",
           286.5613129770992
          ],
          [
           "TB Cases in 2024",
           1682.9501698301701
          ],
          [
           "TB Cases in 2024",
           448.0859605911331
          ],
          [
           "TB Cases in 2024",
           2288.3593513513515
          ],
          [
           "TB Cases in 2024",
           2340.31635359116
          ],
          [
           "TB Cases in 2024",
           6908.47672552167
          ],
          [
           "TB Cases in 2024",
           1671.3362628336756
          ],
          [
           "TB Cases in 2024",
           1497.628705882353
          ]
         ],
         "hovertemplate": "<b>%{x}</b><br>Period: %{customdata[0]}<br>Cases: %{y:.0f}<br>% Change: %{customdata[1]:.2f}%",
         "legendgroup": "Historical Avg TB Cases (1990–2013)",
         "marker": {
          "color": "deepskyblue",
          "pattern": {
           "shape": ""
          }
         },
         "name": "Historical Avg TB Cases (1990–2013)",
         "offsetgroup": "Historical Avg TB Cases (1990–2013)",
         "orientation": "v",
         "showlegend": true,
         "text": [
          2183333.3333333335,
          417083.3333333333,
          1353333.3333333333,
          308333.3333333333,
          301666.6666666667,
          103833.33333333333,
          405833.3333333333,
          425000
         ],
         "textposition": "auto",
         "type": "bar",
         "x": [
          "India",
          "Nigeria",
          "China",
          "South Africa",
          "Bangladesh",
          "Brazil",
          "Pakistan",
          "Indonesia"
         ],
         "xaxis": "x",
         "y": [
          2183333.3333333335,
          417083.3333333333,
          1353333.3333333333,
          308333.3333333333,
          301666.6666666667,
          103833.33333333333,
          405833.3333333333,
          425000
         ],
         "yaxis": "y"
        },
        {
         "alignmentgroup": "True",
         "customdata": [
          [
           "Historical Avg TB Cases (1990–2013)",
           286.5613129770992
          ],
          [
           "Historical Avg TB Cases (1990–2013)",
           1682.9501698301701
          ],
          [
           "Historical Avg TB Cases (1990–2013)",
           448.0859605911331
          ],
          [
           "Historical Avg TB Cases (1990–2013)",
           2288.3593513513515
          ],
          [
           "Historical Avg TB Cases (1990–2013)",
           2340.31635359116
          ],
          [
           "Historical Avg TB Cases (1990–2013)",
           6908.47672552167
          ],
          [
           "Historical Avg TB Cases (1990–2013)",
           1671.3362628336756
          ],
          [
           "Historical Avg TB Cases (1990–2013)",
           1497.628705882353
          ],
          [
           "TB Cases in 2024",
           286.5613129770992
          ],
          [
           "TB Cases in 2024",
           1682.9501698301701
          ],
          [
           "TB Cases in 2024",
           448.0859605911331
          ],
          [
           "TB Cases in 2024",
           2288.3593513513515
          ],
          [
           "TB Cases in 2024",
           2340.31635359116
          ],
          [
           "TB Cases in 2024",
           6908.47672552167
          ],
          [
           "TB Cases in 2024",
           1671.3362628336756
          ],
          [
           "TB Cases in 2024",
           1497.628705882353
          ]
         ],
         "hovertemplate": "<b>%{x}</b><br>Period: %{customdata[0]}<br>Cases: %{y:.0f}<br>% Change: %{customdata[1]:.2f}%",
         "legendgroup": "TB Cases in 2024",
         "marker": {
          "color": "darkorange",
          "pattern": {
           "shape": ""
          }
         },
         "name": "TB Cases in 2024",
         "offsetgroup": "TB Cases in 2024",
         "orientation": "v",
         "showlegend": true,
         "text": [
          8439922,
          7436388,
          7417430,
          7364108,
          7361621,
          7277135,
          7188673,
          6789922
         ],
         "textposition": "auto",
         "type": "bar",
         "x": [
          "India",
          "Nigeria",
          "China",
          "South Africa",
          "Bangladesh",
          "Brazil",
          "Pakistan",
          "Indonesia"
         ],
         "xaxis": "x",
         "y": [
          8439922,
          7436388,
          7417430,
          7364108,
          7361621,
          7277135,
          7188673,
          6789922
         ],
         "yaxis": "y"
        }
       ],
       "layout": {
        "autosize": true,
        "barmode": "group",
        "legend": {
         "title": {
          "text": "Time Period"
         },
         "tracegroupgap": 0
        },
        "template": {
         "data": {
          "bar": [
           {
            "error_x": {
             "color": "#2a3f5f"
            },
            "error_y": {
             "color": "#2a3f5f"
            },
            "marker": {
             "line": {
              "color": "#E5ECF6",
              "width": 0.5
             },
             "pattern": {
              "fillmode": "overlay",
              "size": 10,
              "solidity": 0.2
             }
            },
            "type": "bar"
           }
          ],
          "barpolar": [
           {
            "marker": {
             "line": {
              "color": "#E5ECF6",
              "width": 0.5
             },
             "pattern": {
              "fillmode": "overlay",
              "size": 10,
              "solidity": 0.2
             }
            },
            "type": "barpolar"
           }
          ],
          "carpet": [
           {
            "aaxis": {
             "endlinecolor": "#2a3f5f",
             "gridcolor": "white",
             "linecolor": "white",
             "minorgridcolor": "white",
             "startlinecolor": "#2a3f5f"
            },
            "baxis": {
             "endlinecolor": "#2a3f5f",
             "gridcolor": "white",
             "linecolor": "white",
             "minorgridcolor": "white",
             "startlinecolor": "#2a3f5f"
            },
            "type": "carpet"
           }
          ],
          "choropleth": [
           {
            "colorbar": {
             "outlinewidth": 0,
             "ticks": ""
            },
            "type": "choropleth"
           }
          ],
          "contour": [
           {
            "colorbar": {
             "outlinewidth": 0,
             "ticks": ""
            },
            "colorscale": [
             [
              0,
              "#0d0887"
             ],
             [
              0.1111111111111111,
              "#46039f"
             ],
             [
              0.2222222222222222,
              "#7201a8"
             ],
             [
              0.3333333333333333,
              "#9c179e"
             ],
             [
              0.4444444444444444,
              "#bd3786"
             ],
             [
              0.5555555555555556,
              "#d8576b"
             ],
             [
              0.6666666666666666,
              "#ed7953"
             ],
             [
              0.7777777777777778,
              "#fb9f3a"
             ],
             [
              0.8888888888888888,
              "#fdca26"
             ],
             [
              1,
              "#f0f921"
             ]
            ],
            "type": "contour"
           }
          ],
          "contourcarpet": [
           {
            "colorbar": {
             "outlinewidth": 0,
             "ticks": ""
            },
            "type": "contourcarpet"
           }
          ],
          "heatmap": [
           {
            "colorbar": {
             "outlinewidth": 0,
             "ticks": ""
            },
            "colorscale": [
             [
              0,
              "#0d0887"
             ],
             [
              0.1111111111111111,
              "#46039f"
             ],
             [
              0.2222222222222222,
              "#7201a8"
             ],
             [
              0.3333333333333333,
              "#9c179e"
             ],
             [
              0.4444444444444444,
              "#bd3786"
             ],
             [
              0.5555555555555556,
              "#d8576b"
             ],
             [
              0.6666666666666666,
              "#ed7953"
             ],
             [
              0.7777777777777778,
              "#fb9f3a"
             ],
             [
              0.8888888888888888,
              "#fdca26"
             ],
             [
              1,
              "#f0f921"
             ]
            ],
            "type": "heatmap"
           }
          ],
          "heatmapgl": [
           {
            "colorbar": {
             "outlinewidth": 0,
             "ticks": ""
            },
            "colorscale": [
             [
              0,
              "#0d0887"
             ],
             [
              0.1111111111111111,
              "#46039f"
             ],
             [
              0.2222222222222222,
              "#7201a8"
             ],
             [
              0.3333333333333333,
              "#9c179e"
             ],
             [
              0.4444444444444444,
              "#bd3786"
             ],
             [
              0.5555555555555556,
              "#d8576b"
             ],
             [
              0.6666666666666666,
              "#ed7953"
             ],
             [
              0.7777777777777778,
              "#fb9f3a"
             ],
             [
              0.8888888888888888,
              "#fdca26"
             ],
             [
              1,
              "#f0f921"
             ]
            ],
            "type": "heatmapgl"
           }
          ],
          "histogram": [
           {
            "marker": {
             "pattern": {
              "fillmode": "overlay",
              "size": 10,
              "solidity": 0.2
             }
            },
            "type": "histogram"
           }
          ],
          "histogram2d": [
           {
            "colorbar": {
             "outlinewidth": 0,
             "ticks": ""
            },
            "colorscale": [
             [
              0,
              "#0d0887"
             ],
             [
              0.1111111111111111,
              "#46039f"
             ],
             [
              0.2222222222222222,
              "#7201a8"
             ],
             [
              0.3333333333333333,
              "#9c179e"
             ],
             [
              0.4444444444444444,
              "#bd3786"
             ],
             [
              0.5555555555555556,
              "#d8576b"
             ],
             [
              0.6666666666666666,
              "#ed7953"
             ],
             [
              0.7777777777777778,
              "#fb9f3a"
             ],
             [
              0.8888888888888888,
              "#fdca26"
             ],
             [
              1,
              "#f0f921"
             ]
            ],
            "type": "histogram2d"
           }
          ],
          "histogram2dcontour": [
           {
            "colorbar": {
             "outlinewidth": 0,
             "ticks": ""
            },
            "colorscale": [
             [
              0,
              "#0d0887"
             ],
             [
              0.1111111111111111,
              "#46039f"
             ],
             [
              0.2222222222222222,
              "#7201a8"
             ],
             [
              0.3333333333333333,
              "#9c179e"
             ],
             [
              0.4444444444444444,
              "#bd3786"
             ],
             [
              0.5555555555555556,
              "#d8576b"
             ],
             [
              0.6666666666666666,
              "#ed7953"
             ],
             [
              0.7777777777777778,
              "#fb9f3a"
             ],
             [
              0.8888888888888888,
              "#fdca26"
             ],
             [
              1,
              "#f0f921"
             ]
            ],
            "type": "histogram2dcontour"
           }
          ],
          "mesh3d": [
           {
            "colorbar": {
             "outlinewidth": 0,
             "ticks": ""
            },
            "type": "mesh3d"
           }
          ],
          "parcoords": [
           {
            "line": {
             "colorbar": {
              "outlinewidth": 0,
              "ticks": ""
             }
            },
            "type": "parcoords"
           }
          ],
          "pie": [
           {
            "automargin": true,
            "type": "pie"
           }
          ],
          "scatter": [
           {
            "fillpattern": {
             "fillmode": "overlay",
             "size": 10,
             "solidity": 0.2
            },
            "type": "scatter"
           }
          ],
          "scatter3d": [
           {
            "line": {
             "colorbar": {
              "outlinewidth": 0,
              "ticks": ""
             }
            },
            "marker": {
             "colorbar": {
              "outlinewidth": 0,
              "ticks": ""
             }
            },
            "type": "scatter3d"
           }
          ],
          "scattercarpet": [
           {
            "marker": {
             "colorbar": {
              "outlinewidth": 0,
              "ticks": ""
             }
            },
            "type": "scattercarpet"
           }
          ],
          "scattergeo": [
           {
            "marker": {
             "colorbar": {
              "outlinewidth": 0,
              "ticks": ""
             }
            },
            "type": "scattergeo"
           }
          ],
          "scattergl": [
           {
            "marker": {
             "colorbar": {
              "outlinewidth": 0,
              "ticks": ""
             }
            },
            "type": "scattergl"
           }
          ],
          "scattermapbox": [
           {
            "marker": {
             "colorbar": {
              "outlinewidth": 0,
              "ticks": ""
             }
            },
            "type": "scattermapbox"
           }
          ],
          "scatterpolar": [
           {
            "marker": {
             "colorbar": {
              "outlinewidth": 0,
              "ticks": ""
             }
            },
            "type": "scatterpolar"
           }
          ],
          "scatterpolargl": [
           {
            "marker": {
             "colorbar": {
              "outlinewidth": 0,
              "ticks": ""
             }
            },
            "type": "scatterpolargl"
           }
          ],
          "scatterternary": [
           {
            "marker": {
             "colorbar": {
              "outlinewidth": 0,
              "ticks": ""
             }
            },
            "type": "scatterternary"
           }
          ],
          "surface": [
           {
            "colorbar": {
             "outlinewidth": 0,
             "ticks": ""
            },
            "colorscale": [
             [
              0,
              "#0d0887"
             ],
             [
              0.1111111111111111,
              "#46039f"
             ],
             [
              0.2222222222222222,
              "#7201a8"
             ],
             [
              0.3333333333333333,
              "#9c179e"
             ],
             [
              0.4444444444444444,
              "#bd3786"
             ],
             [
              0.5555555555555556,
              "#d8576b"
             ],
             [
              0.6666666666666666,
              "#ed7953"
             ],
             [
              0.7777777777777778,
              "#fb9f3a"
             ],
             [
              0.8888888888888888,
              "#fdca26"
             ],
             [
              1,
              "#f0f921"
             ]
            ],
            "type": "surface"
           }
          ],
          "table": [
           {
            "cells": {
             "fill": {
              "color": "#EBF0F8"
             },
             "line": {
              "color": "white"
             }
            },
            "header": {
             "fill": {
              "color": "#C8D4E3"
             },
             "line": {
              "color": "white"
             }
            },
            "type": "table"
           }
          ]
         },
         "layout": {
          "annotationdefaults": {
           "arrowcolor": "#2a3f5f",
           "arrowhead": 0,
           "arrowwidth": 1
          },
          "autotypenumbers": "strict",
          "coloraxis": {
           "colorbar": {
            "outlinewidth": 0,
            "ticks": ""
           }
          },
          "colorscale": {
           "diverging": [
            [
             0,
             "#8e0152"
            ],
            [
             0.1,
             "#c51b7d"
            ],
            [
             0.2,
             "#de77ae"
            ],
            [
             0.3,
             "#f1b6da"
            ],
            [
             0.4,
             "#fde0ef"
            ],
            [
             0.5,
             "#f7f7f7"
            ],
            [
             0.6,
             "#e6f5d0"
            ],
            [
             0.7,
             "#b8e186"
            ],
            [
             0.8,
             "#7fbc41"
            ],
            [
             0.9,
             "#4d9221"
            ],
            [
             1,
             "#276419"
            ]
           ],
           "sequential": [
            [
             0,
             "#0d0887"
            ],
            [
             0.1111111111111111,
             "#46039f"
            ],
            [
             0.2222222222222222,
             "#7201a8"
            ],
            [
             0.3333333333333333,
             "#9c179e"
            ],
            [
             0.4444444444444444,
             "#bd3786"
            ],
            [
             0.5555555555555556,
             "#d8576b"
            ],
            [
             0.6666666666666666,
             "#ed7953"
            ],
            [
             0.7777777777777778,
             "#fb9f3a"
            ],
            [
             0.8888888888888888,
             "#fdca26"
            ],
            [
             1,
             "#f0f921"
            ]
           ],
           "sequentialminus": [
            [
             0,
             "#0d0887"
            ],
            [
             0.1111111111111111,
             "#46039f"
            ],
            [
             0.2222222222222222,
             "#7201a8"
            ],
            [
             0.3333333333333333,
             "#9c179e"
            ],
            [
             0.4444444444444444,
             "#bd3786"
            ],
            [
             0.5555555555555556,
             "#d8576b"
            ],
            [
             0.6666666666666666,
             "#ed7953"
            ],
            [
             0.7777777777777778,
             "#fb9f3a"
            ],
            [
             0.8888888888888888,
             "#fdca26"
            ],
            [
             1,
             "#f0f921"
            ]
           ]
          },
          "colorway": [
           "#636efa",
           "#EF553B",
           "#00cc96",
           "#ab63fa",
           "#FFA15A",
           "#19d3f3",
           "#FF6692",
           "#B6E880",
           "#FF97FF",
           "#FECB52"
          ],
          "font": {
           "color": "#2a3f5f"
          },
          "geo": {
           "bgcolor": "white",
           "lakecolor": "white",
           "landcolor": "#E5ECF6",
           "showlakes": true,
           "showland": true,
           "subunitcolor": "white"
          },
          "hoverlabel": {
           "align": "left"
          },
          "hovermode": "closest",
          "mapbox": {
           "style": "light"
          },
          "paper_bgcolor": "white",
          "plot_bgcolor": "#E5ECF6",
          "polar": {
           "angularaxis": {
            "gridcolor": "white",
            "linecolor": "white",
            "ticks": ""
           },
           "bgcolor": "#E5ECF6",
           "radialaxis": {
            "gridcolor": "white",
            "linecolor": "white",
            "ticks": ""
           }
          },
          "scene": {
           "xaxis": {
            "backgroundcolor": "#E5ECF6",
            "gridcolor": "white",
            "gridwidth": 2,
            "linecolor": "white",
            "showbackground": true,
            "ticks": "",
            "zerolinecolor": "white"
           },
           "yaxis": {
            "backgroundcolor": "#E5ECF6",
            "gridcolor": "white",
            "gridwidth": 2,
            "linecolor": "white",
            "showbackground": true,
            "ticks": "",
            "zerolinecolor": "white"
           },
           "zaxis": {
            "backgroundcolor": "#E5ECF6",
            "gridcolor": "white",
            "gridwidth": 2,
            "linecolor": "white",
            "showbackground": true,
            "ticks": "",
            "zerolinecolor": "white"
           }
          },
          "shapedefaults": {
           "line": {
            "color": "#2a3f5f"
           }
          },
          "ternary": {
           "aaxis": {
            "gridcolor": "white",
            "linecolor": "white",
            "ticks": ""
           },
           "baxis": {
            "gridcolor": "white",
            "linecolor": "white",
            "ticks": ""
           },
           "bgcolor": "#E5ECF6",
           "caxis": {
            "gridcolor": "white",
            "linecolor": "white",
            "ticks": ""
           }
          },
          "title": {
           "x": 0.05
          },
          "xaxis": {
           "automargin": true,
           "gridcolor": "white",
           "linecolor": "white",
           "ticks": "",
           "title": {
            "standoff": 15
           },
           "zerolinecolor": "white",
           "zerolinewidth": 2
          },
          "yaxis": {
           "automargin": true,
           "gridcolor": "white",
           "linecolor": "white",
           "ticks": "",
           "title": {
            "standoff": 15
           },
           "zerolinecolor": "white",
           "zerolinewidth": 2
          }
         }
        },
        "title": {
         "text": "📊 TB Cases Comparison: Historical Avg (1990–2013) vs 2024"
        },
        "uniformtext": {
         "minsize": 8,
         "mode": "hide"
        },
        "xaxis": {
         "anchor": "y",
         "autorange": true,
         "domain": [
          0,
          1
         ],
         "range": [
          -0.5,
          7.5
         ],
         "tickangle": -45,
         "title": {
          "text": "Country"
         },
         "type": "category"
        },
        "yaxis": {
         "anchor": "x",
         "autorange": true,
         "domain": [
          0,
          1
         ],
         "range": [
          0,
          8884128.421052631
         ],
         "showgrid": true,
         "title": {
          "text": "Total TB Cases"
         },
         "type": "linear"
        }
       }
      },
      "image/png": "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",
      "text/html": [
       "<div>                            <div id=\"df61a475-a2f3-47d7-9ca8-b1174509abbc\" class=\"plotly-graph-div\" style=\"height:525px; width:100%;\"></div>            <script type=\"text/javascript\">                require([\"plotly\"], function(Plotly) {                    window.PLOTLYENV=window.PLOTLYENV || {};                                    if (document.getElementById(\"df61a475-a2f3-47d7-9ca8-b1174509abbc\")) {                    Plotly.newPlot(                        \"df61a475-a2f3-47d7-9ca8-b1174509abbc\",                        [{\"alignmentgroup\":\"True\",\"hovertemplate\":\"<b>%{x}</b><br>Period: %{customdata[0]}<br>Cases: %{y:.0f}<br>% Change: %{customdata[1]:.2f}%\",\"legendgroup\":\"Historical Avg TB Cases (1990\\u20132013)\",\"marker\":{\"color\":\"deepskyblue\",\"pattern\":{\"shape\":\"\"}},\"name\":\"Historical Avg TB Cases (1990\\u20132013)\",\"offsetgroup\":\"Historical Avg TB Cases (1990\\u20132013)\",\"orientation\":\"v\",\"showlegend\":true,\"text\":[2183333.3333333335,417083.3333333333,1353333.3333333333,308333.3333333333,301666.6666666667,103833.33333333333,405833.3333333333,425000.0],\"textposition\":\"auto\",\"x\":[\"India\",\"Nigeria\",\"China\",\"South Africa\",\"Bangladesh\",\"Brazil\",\"Pakistan\",\"Indonesia\"],\"xaxis\":\"x\",\"y\":[2183333.3333333335,417083.3333333333,1353333.3333333333,308333.3333333333,301666.6666666667,103833.33333333333,405833.3333333333,425000.0],\"yaxis\":\"y\",\"type\":\"bar\",\"customdata\":[[\"Historical Avg TB Cases (1990\\u20132013)\",286.5613129770992],[\"Historical Avg TB Cases (1990\\u20132013)\",1682.9501698301701],[\"Historical Avg TB Cases (1990\\u20132013)\",448.0859605911331],[\"Historical Avg TB Cases (1990\\u20132013)\",2288.3593513513515],[\"Historical Avg TB Cases (1990\\u20132013)\",2340.31635359116],[\"Historical Avg TB Cases (1990\\u20132013)\",6908.47672552167],[\"Historical Avg TB Cases (1990\\u20132013)\",1671.3362628336756],[\"Historical Avg TB Cases (1990\\u20132013)\",1497.628705882353],[\"TB Cases in 2024\",286.5613129770992],[\"TB Cases in 2024\",1682.9501698301701],[\"TB Cases in 2024\",448.0859605911331],[\"TB Cases in 2024\",2288.3593513513515],[\"TB Cases in 2024\",2340.31635359116],[\"TB Cases in 2024\",6908.47672552167],[\"TB Cases in 2024\",1671.3362628336756],[\"TB Cases in 2024\",1497.628705882353]]},{\"alignmentgroup\":\"True\",\"hovertemplate\":\"<b>%{x}</b><br>Period: %{customdata[0]}<br>Cases: %{y:.0f}<br>% Change: %{customdata[1]:.2f}%\",\"legendgroup\":\"TB Cases in 2024\",\"marker\":{\"color\":\"darkorange\",\"pattern\":{\"shape\":\"\"}},\"name\":\"TB Cases in 2024\",\"offsetgroup\":\"TB Cases in 2024\",\"orientation\":\"v\",\"showlegend\":true,\"text\":[8439922.0,7436388.0,7417430.0,7364108.0,7361621.0,7277135.0,7188673.0,6789922.0],\"textposition\":\"auto\",\"x\":[\"India\",\"Nigeria\",\"China\",\"South Africa\",\"Bangladesh\",\"Brazil\",\"Pakistan\",\"Indonesia\"],\"xaxis\":\"x\",\"y\":[8439922.0,7436388.0,7417430.0,7364108.0,7361621.0,7277135.0,7188673.0,6789922.0],\"yaxis\":\"y\",\"type\":\"bar\",\"customdata\":[[\"Historical Avg TB Cases (1990\\u20132013)\",286.5613129770992],[\"Historical Avg TB Cases (1990\\u20132013)\",1682.9501698301701],[\"Historical Avg TB Cases (1990\\u20132013)\",448.0859605911331],[\"Historical Avg TB Cases (1990\\u20132013)\",2288.3593513513515],[\"Historical Avg TB Cases (1990\\u20132013)\",2340.31635359116],[\"Historical Avg TB Cases (1990\\u20132013)\",6908.47672552167],[\"Historical Avg TB Cases (1990\\u20132013)\",1671.3362628336756],[\"Historical Avg TB Cases (1990\\u20132013)\",1497.628705882353],[\"TB Cases in 2024\",286.5613129770992],[\"TB Cases in 2024\",1682.9501698301701],[\"TB Cases in 2024\",448.0859605911331],[\"TB Cases in 2024\",2288.3593513513515],[\"TB Cases in 2024\",2340.31635359116],[\"TB Cases in 2024\",6908.47672552167],[\"TB Cases in 2024\",1671.3362628336756],[\"TB Cases in 2024\",1497.628705882353]]}],                        {\"template\":{\"data\":{\"histogram2dcontour\":[{\"type\":\"histogram2dcontour\",\"colorbar\":{\"outlinewidth\":0,\"ticks\":\"\"},\"colorscale\":[[0.0,\"#0d0887\"],[0.1111111111111111,\"#46039f\"],[0.2222222222222222,\"#7201a8\"],[0.3333333333333333,\"#9c179e\"],[0.4444444444444444,\"#bd3786\"],[0.5555555555555556,\"#d8576b\"],[0.6666666666666666,\"#ed7953\"],[0.7777777777777778,\"#fb9f3a\"],[0.8888888888888888,\"#fdca26\"],[1.0,\"#f0f921\"]]}],\"choropleth\":[{\"type\":\"choropleth\",\"colorbar\":{\"outlinewidth\":0,\"ticks\":\"\"}}],\"histogram2d\":[{\"type\":\"histogram2d\",\"colorbar\":{\"outlinewidth\":0,\"ticks\":\"\"},\"colorscale\":[[0.0,\"#0d0887\"],[0.1111111111111111,\"#46039f\"],[0.2222222222222222,\"#7201a8\"],[0.3333333333333333,\"#9c179e\"],[0.4444444444444444,\"#bd3786\"],[0.5555555555555556,\"#d8576b\"],[0.6666666666666666,\"#ed7953\"],[0.7777777777777778,\"#fb9f3a\"],[0.8888888888888888,\"#fdca26\"],[1.0,\"#f0f921\"]]}],\"heatmap\":[{\"type\":\"heatmap\",\"colorbar\":{\"outlinewidth\":0,\"ticks\":\"\"},\"colorscale\":[[0.0,\"#0d0887\"],[0.1111111111111111,\"#46039f\"],[0.2222222222222222,\"#7201a8\"],[0.3333333333333333,\"#9c179e\"],[0.4444444444444444,\"#bd3786\"],[0.5555555555555556,\"#d8576b\"],[0.6666666666666666,\"#ed7953\"],[0.7777777777777778,\"#fb9f3a\"],[0.8888888888888888,\"#fdca26\"],[1.0,\"#f0f921\"]]}],\"heatmapgl\":[{\"type\":\"heatmapgl\",\"colorbar\":{\"outlinewidth\":0,\"ticks\":\"\"},\"colorscale\":[[0.0,\"#0d0887\"],[0.1111111111111111,\"#46039f\"],[0.2222222222222222,\"#7201a8\"],[0.3333333333333333,\"#9c179e\"],[0.4444444444444444,\"#bd3786\"],[0.5555555555555556,\"#d8576b\"],[0.6666666666666666,\"#ed7953\"],[0.7777777777777778,\"#fb9f3a\"],[0.8888888888888888,\"#fdca26\"],[1.0,\"#f0f921\"]]}],\"contourcarpet\":[{\"type\":\"contourcarpet\",\"colorbar\":{\"outlinewidth\":0,\"ticks\":\"\"}}],\"contour\":[{\"type\":\"contour\",\"colorbar\":{\"outlinewidth\":0,\"ticks\":\"\"},\"colorscale\":[[0.0,\"#0d0887\"],[0.1111111111111111,\"#46039f\"],[0.2222222222222222,\"#7201a8\"],[0.3333333333333333,\"#9c179e\"],[0.4444444444444444,\"#bd3786\"],[0.5555555555555556,\"#d8576b\"],[0.6666666666666666,\"#ed7953\"],[0.7777777777777778,\"#fb9f3a\"],[0.8888888888888888,\"#fdca26\"],[1.0,\"#f0f921\"]]}],\"surface\":[{\"type\":\"surface\",\"colorbar\":{\"outlinewidth\":0,\"ticks\":\"\"},\"colorscale\":[[0.0,\"#0d0887\"],[0.1111111111111111,\"#46039f\"],[0.2222222222222222,\"#7201a8\"],[0.3333333333333333,\"#9c179e\"],[0.4444444444444444,\"#bd3786\"],[0.5555555555555556,\"#d8576b\"],[0.6666666666666666,\"#ed7953\"],[0.7777777777777778,\"#fb9f3a\"],[0.8888888888888888,\"#fdca26\"],[1.0,\"#f0f921\"]]}],\"mesh3d\":[{\"type\":\"mesh3d\",\"colorbar\":{\"outlinewidth\":0,\"ticks\":\"\"}}],\"scatter\":[{\"fillpattern\":{\"fillmode\":\"overlay\",\"size\":10,\"solidity\":0.2},\"type\":\"scatter\"}],\"parcoords\":[{\"type\":\"parcoords\",\"line\":{\"colorbar\":{\"outlinewidth\":0,\"ticks\":\"\"}}}],\"scatterpolargl\":[{\"type\":\"scatterpolargl\",\"marker\":{\"colorbar\":{\"outlinewidth\":0,\"ticks\":\"\"}}}],\"bar\":[{\"error_x\":{\"color\":\"#2a3f5f\"},\"error_y\":{\"color\":\"#2a3f5f\"},\"marker\":{\"line\":{\"color\":\"#E5ECF6\",\"width\":0.5},\"pattern\":{\"fillmode\":\"overlay\",\"size\":10,\"solidity\":0.2}},\"type\":\"bar\"}],\"scattergeo\":[{\"type\":\"scattergeo\",\"marker\":{\"colorbar\":{\"outlinewidth\":0,\"ticks\":\"\"}}}],\"scatterpolar\":[{\"type\":\"scatterpolar\",\"marker\":{\"colorbar\":{\"outlinewidth\":0,\"ticks\":\"\"}}}],\"histogram\":[{\"marker\":{\"pattern\":{\"fillmode\":\"overlay\",\"size\":10,\"solidity\":0.2}},\"type\":\"histogram\"}],\"scattergl\":[{\"type\":\"scattergl\",\"marker\":{\"colorbar\":{\"outlinewidth\":0,\"ticks\":\"\"}}}],\"scatter3d\":[{\"type\":\"scatter3d\",\"line\":{\"colorbar\":{\"outlinewidth\":0,\"ticks\":\"\"}},\"marker\":{\"colorbar\":{\"outlinewidth\":0,\"ticks\":\"\"}}}],\"scattermapbox\":[{\"type\":\"scattermapbox\",\"marker\":{\"colorbar\":{\"outlinewidth\":0,\"ticks\":\"\"}}}],\"scatterternary\":[{\"type\":\"scatterternary\",\"marker\":{\"colorbar\":{\"outlinewidth\":0,\"ticks\":\"\"}}}],\"scattercarpet\":[{\"type\":\"scattercarpet\",\"marker\":{\"colorbar\":{\"outlinewidth\":0,\"ticks\":\"\"}}}],\"carpet\":[{\"aaxis\":{\"endlinecolor\":\"#2a3f5f\",\"gridcolor\":\"white\",\"linecolor\":\"white\",\"minorgridcolor\":\"white\",\"startlinecolor\":\"#2a3f5f\"},\"baxis\":{\"endlinecolor\":\"#2a3f5f\",\"gridcolor\":\"white\",\"linecolor\":\"white\",\"minorgridcolor\":\"white\",\"startlinecolor\":\"#2a3f5f\"},\"type\":\"carpet\"}],\"table\":[{\"cells\":{\"fill\":{\"color\":\"#EBF0F8\"},\"line\":{\"color\":\"white\"}},\"header\":{\"fill\":{\"color\":\"#C8D4E3\"},\"line\":{\"color\":\"white\"}},\"type\":\"table\"}],\"barpolar\":[{\"marker\":{\"line\":{\"color\":\"#E5ECF6\",\"width\":0.5},\"pattern\":{\"fillmode\":\"overlay\",\"size\":10,\"solidity\":0.2}},\"type\":\"barpolar\"}],\"pie\":[{\"automargin\":true,\"type\":\"pie\"}]},\"layout\":{\"autotypenumbers\":\"strict\",\"colorway\":[\"#636efa\",\"#EF553B\",\"#00cc96\",\"#ab63fa\",\"#FFA15A\",\"#19d3f3\",\"#FF6692\",\"#B6E880\",\"#FF97FF\",\"#FECB52\"],\"font\":{\"color\":\"#2a3f5f\"},\"hovermode\":\"closest\",\"hoverlabel\":{\"align\":\"left\"},\"paper_bgcolor\":\"white\",\"plot_bgcolor\":\"#E5ECF6\",\"polar\":{\"bgcolor\":\"#E5ECF6\",\"angularaxis\":{\"gridcolor\":\"white\",\"linecolor\":\"white\",\"ticks\":\"\"},\"radialaxis\":{\"gridcolor\":\"white\",\"linecolor\":\"white\",\"ticks\":\"\"}},\"ternary\":{\"bgcolor\":\"#E5ECF6\",\"aaxis\":{\"gridcolor\":\"white\",\"linecolor\":\"white\",\"ticks\":\"\"},\"baxis\":{\"gridcolor\":\"white\",\"linecolor\":\"white\",\"ticks\":\"\"},\"caxis\":{\"gridcolor\":\"white\",\"linecolor\":\"white\",\"ticks\":\"\"}},\"coloraxis\":{\"colorbar\":{\"outlinewidth\":0,\"ticks\":\"\"}},\"colorscale\":{\"sequential\":[[0.0,\"#0d0887\"],[0.1111111111111111,\"#46039f\"],[0.2222222222222222,\"#7201a8\"],[0.3333333333333333,\"#9c179e\"],[0.4444444444444444,\"#bd3786\"],[0.5555555555555556,\"#d8576b\"],[0.6666666666666666,\"#ed7953\"],[0.7777777777777778,\"#fb9f3a\"],[0.8888888888888888,\"#fdca26\"],[1.0,\"#f0f921\"]],\"sequentialminus\":[[0.0,\"#0d0887\"],[0.1111111111111111,\"#46039f\"],[0.2222222222222222,\"#7201a8\"],[0.3333333333333333,\"#9c179e\"],[0.4444444444444444,\"#bd3786\"],[0.5555555555555556,\"#d8576b\"],[0.6666666666666666,\"#ed7953\"],[0.7777777777777778,\"#fb9f3a\"],[0.8888888888888888,\"#fdca26\"],[1.0,\"#f0f921\"]],\"diverging\":[[0,\"#8e0152\"],[0.1,\"#c51b7d\"],[0.2,\"#de77ae\"],[0.3,\"#f1b6da\"],[0.4,\"#fde0ef\"],[0.5,\"#f7f7f7\"],[0.6,\"#e6f5d0\"],[0.7,\"#b8e186\"],[0.8,\"#7fbc41\"],[0.9,\"#4d9221\"],[1,\"#276419\"]]},\"xaxis\":{\"gridcolor\":\"white\",\"linecolor\":\"white\",\"ticks\":\"\",\"title\":{\"standoff\":15},\"zerolinecolor\":\"white\",\"automargin\":true,\"zerolinewidth\":2},\"yaxis\":{\"gridcolor\":\"white\",\"linecolor\":\"white\",\"ticks\":\"\",\"title\":{\"standoff\":15},\"zerolinecolor\":\"white\",\"automargin\":true,\"zerolinewidth\":2},\"scene\":{\"xaxis\":{\"backgroundcolor\":\"#E5ECF6\",\"gridcolor\":\"white\",\"linecolor\":\"white\",\"showbackground\":true,\"ticks\":\"\",\"zerolinecolor\":\"white\",\"gridwidth\":2},\"yaxis\":{\"backgroundcolor\":\"#E5ECF6\",\"gridcolor\":\"white\",\"linecolor\":\"white\",\"showbackground\":true,\"ticks\":\"\",\"zerolinecolor\":\"white\",\"gridwidth\":2},\"zaxis\":{\"backgroundcolor\":\"#E5ECF6\",\"gridcolor\":\"white\",\"linecolor\":\"white\",\"showbackground\":true,\"ticks\":\"\",\"zerolinecolor\":\"white\",\"gridwidth\":2}},\"shapedefaults\":{\"line\":{\"color\":\"#2a3f5f\"}},\"annotationdefaults\":{\"arrowcolor\":\"#2a3f5f\",\"arrowhead\":0,\"arrowwidth\":1},\"geo\":{\"bgcolor\":\"white\",\"landcolor\":\"#E5ECF6\",\"subunitcolor\":\"white\",\"showland\":true,\"showlakes\":true,\"lakecolor\":\"white\"},\"title\":{\"x\":0.05},\"mapbox\":{\"style\":\"light\"}}},\"xaxis\":{\"anchor\":\"y\",\"domain\":[0.0,1.0],\"title\":{\"text\":\"Country\"},\"tickangle\":-45},\"yaxis\":{\"anchor\":\"x\",\"domain\":[0.0,1.0],\"title\":{\"text\":\"Total TB Cases\"},\"showgrid\":true},\"legend\":{\"title\":{\"text\":\"Time Period\"},\"tracegroupgap\":0},\"title\":{\"text\":\"\\ud83d\\udcca TB Cases Comparison: Historical Avg (1990\\u20132013) vs 2024\"},\"barmode\":\"group\",\"uniformtext\":{\"minsize\":8,\"mode\":\"hide\"}},                        {\"responsive\": true}                    ).then(function(){\n",
       "                            \n",
       "var gd = document.getElementById('df61a475-a2f3-47d7-9ca8-b1174509abbc');\n",
       "var x = new MutationObserver(function (mutations, observer) {{\n",
       "        var display = window.getComputedStyle(gd).display;\n",
       "        if (!display || display === 'none') {{\n",
       "            console.log([gd, 'removed!']);\n",
       "            Plotly.purge(gd);\n",
       "            observer.disconnect();\n",
       "        }}\n",
       "}});\n",
       "\n",
       "// Listen for the removal of the full notebook cells\n",
       "var notebookContainer = gd.closest('#notebook-container');\n",
       "if (notebookContainer) {{\n",
       "    x.observe(notebookContainer, {childList: true});\n",
       "}}\n",
       "\n",
       "// Listen for the clearing of the current output cell\n",
       "var outputEl = gd.closest('.output');\n",
       "if (outputEl) {{\n",
       "    x.observe(outputEl, {childList: true});\n",
       "}}\n",
       "\n",
       "                        })                };                });            </script>        </div>"
      ]
     },
     "metadata": {},
     "output_type": "display_data"
    }
   ],
   "source": [
    "df_historical = df_combined[df_combined['Year'].between(1990, 2013)]\n",
    "avg_historical = df_historical.groupby('Country')['Total_Cases'].mean().reset_index()\n",
    "avg_historical.rename(columns={'Total_Cases': 'Historical Avg TB Cases (1990–2013)'}, inplace=True)\n",
    "\n",
    "tb_2024_updated = pd.read_csv(r\"C:\\Users\\13309\\Desktop\\Tuberculosis_Trends.csv\")\n",
    "possible_names = ['Total_Cases', 'TB_Cases', 'Cases']\n",
    "found_col = next((col for col in possible_names if col in tb_2024_updated.columns), None)\n",
    "\n",
    "if not found_col:\n",
    "    raise ValueError(\"No valid TB cases column found. Please check your CSV for one of: Total_Cases, TB_Cases, or Cases.\")\n",
    "\n",
    "#  Clean and group 2024 data\n",
    "tb_2024_updated = tb_2024_updated.groupby('Country')[found_col].sum().reset_index()\n",
    "tb_2024_updated.rename(columns={found_col: 'TB Cases in 2024'}, inplace=True)\n",
    "\n",
    "#  Merge historical and updated data\n",
    "comparison_df = pd.merge(avg_historical, tb_2024_updated, on='Country')\n",
    "\n",
    "#  Calculate % Change\n",
    "comparison_df['% Change'] = ((comparison_df['TB Cases in 2024'] - comparison_df['Historical Avg TB Cases (1990–2013)']) /\n",
    "                             comparison_df['Historical Avg TB Cases (1990–2013)']) * 100\n",
    "\n",
    "#  Top 10 countries by 2024 cases\n",
    "top10 = comparison_df.sort_values(by='TB Cases in 2024', ascending=False).head(10)\n",
    "\n",
    "plot_data = top10.melt(\n",
    "    id_vars=['Country', '% Change'],\n",
    "    value_vars=['Historical Avg TB Cases (1990–2013)', 'TB Cases in 2024'],\n",
    "    var_name='Time Period',\n",
    "    value_name='Total TB Cases'\n",
    ")\n",
    "\n",
    "fig = px.bar(\n",
    "    plot_data,\n",
    "    x='Country',\n",
    "    y='Total TB Cases',\n",
    "    color='Time Period',\n",
    "    barmode='group',\n",
    "    text='Total TB Cases',\n",
    "    color_discrete_map={\n",
    "        'Historical Avg TB Cases (1990–2013)': 'deepskyblue',\n",
    "        'TB Cases in 2024': 'darkorange'\n",
    "    },\n",
    "    title=\"📊 TB Cases Comparison: Historical Avg (1990–2013) vs 2024\",\n",
    "    labels={\"Total TB Cases\": \"Total TB Cases\", \"Country\": \"Country\"}\n",
    ")\n",
    "\n",
    "fig.update_traces(\n",
    "    hovertemplate=\"<b>%{x}</b><br>Period: %{customdata[0]}<br>Cases: %{y:.0f}<br>% Change: %{customdata[1]:.2f}%\",\n",
    "    customdata=plot_data[['Time Period', '% Change']]\n",
    ")\n",
    "\n",
    "fig.update_layout(\n",
    "    xaxis_tickangle=-45,\n",
    "    yaxis=dict(showgrid=True),\n",
    "    legend_title_text='Time Period',\n",
    "    uniformtext_minsize=8,\n",
    "    uniformtext_mode='hide'\n",
    ")\n",
    "\n",
    "fig.show()\n"
   ]
  },
  {
   "cell_type": "markdown",
   "id": "e9093584-ddb0-4eec-b33e-8fb350982bc2",
   "metadata": {},
   "source": [
    "# 🧪 TB Data Analysis: Historical (1990–2013) vs. Updated 2024\r\n",
    "\r\n",
    "## 📌 Why Only 8 Countries Are Displayed Instead of 10?\r\n",
    "\r\n",
    "Although the analysis was initially designed to display the **Top 10 countries** with the highest TB cases in 2024, only **8 countries** appear in the final output.\r\n",
    "\r\n",
    "This happens because of a filtering condition that ensures only countries with available TB case data in **both** time periods — the **historical average (1990–2013)** and the **updated 2024** cases — are included. This is necessary to maintain accuracy in calculating the percentage changes.\r\n",
    "\r\n",
    "```python\r\n",
    "valid_countries = year_counts[year_counts == 2].index.tolist()\r\n",
    "tolist()\r\n",
    "tolist()\r\n"
   ]
  },
  {
   "cell_type": "markdown",
   "id": "85be23f1-741e-4494-959b-625051fb6719",
   "metadata": {},
   "source": 
  },
  {
   "cell_type": "code",
   "execution_count": null,
   "id": "8ebbdbed-0c57-4d08-9ee2-f269ade299a9",
   "metadata": {},
   "outputs": [],
   "source": []
  }
 ],
 "metadata": {
  "kernelspec": {
   "display_name": "Python 3 (ipykernel)",
   "language": "python",
   "name": "python3"
  },
  "language_info": {
   "codemirror_mode": {
    "name": "ipython",
    "version": 3
   },
   "file_extension": ".py",
   "mimetype": "text/x-python",
   "name": "python",
   "nbconvert_exporter": "python",
   "pygments_lexer": "ipython3",
   "version": "3.11.7"
  }
 },
 "nbformat": 4,
 "nbformat_minor": 5
}
